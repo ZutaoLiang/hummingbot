{
 "cells": [
  {
   "cell_type": "code",
   "execution_count": null,
   "id": "d439b9cb",
   "metadata": {},
   "outputs": [],
   "source": [
    "import os\n",
    "import sys\n",
    "from datetime import datetime\n",
    "current_dir = os.getcwd()\n",
    "sys.path.append(os.path.join(current_dir, '../..'))\n",
    "from backtesting import backtesting_engine\n",
    "\n",
    "engine = backtesting_engine.BacktestingEngine()\n",
    "backtesting_result = await engine.async_backtest(current_dir, 'backtesting_pmm_adaptive_voxel_1.yml', datetime(2025, 5, 4).replace(hour=14, minute=36, second=22), datetime(2025, 5, 5).replace(hour=21, minute=45, second=40), '1m')\n",
    "fig = backtesting_result.get_backtesting_figure()\n",
    "fig.show()"
   ]
  },
  {
   "cell_type": "code",
   "execution_count": null,
   "id": "8aac35c0",
   "metadata": {},
   "outputs": [],
   "source": [
    "backtesting_result = await engine.async_backtest(current_dir, 'backtesting_pmm_simple_voxel_1.yml', datetime(2025, 5, 4), datetime(2025, 5, 5), '1m')\n",
    "fig = backtesting_result.get_backtesting_figure()\n",
    "fig.show()"
   ]
  }
 ],
 "metadata": {
  "kernelspec": {
   "display_name": "hummingbot",
   "language": "python",
   "name": "python3"
  },
  "language_info": {
   "codemirror_mode": {
    "name": "ipython",
    "version": 3
   },
   "file_extension": ".py",
   "mimetype": "text/x-python",
   "name": "python",
   "nbconvert_exporter": "python",
   "pygments_lexer": "ipython3",
   "version": "3.10.16"
  }
 },
 "nbformat": 4,
 "nbformat_minor": 5
}
