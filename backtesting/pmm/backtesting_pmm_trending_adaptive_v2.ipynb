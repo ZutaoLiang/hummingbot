{
 "cells": [
  {
   "cell_type": "code",
   "execution_count": null,
   "id": "d439b9cb",
   "metadata": {},
   "outputs": [],
   "source": [
    "from pyinstrument import Profiler\n",
    "\n",
    "do_profile = False\n",
    "profiler = Profiler()\n",
    "if do_profile:\n",
    "    profiler.start()\n",
    "\n",
    "import os\n",
    "import sys\n",
    "from datetime import datetime, timezone\n",
    "current_dir = os.getcwd()\n",
    "sys.path.append(os.path.join(current_dir, '../..'))\n",
    "from backtesting import backtest_engine\n",
    "\n",
    "start_date = datetime(2025, 5, 15)\n",
    "end_date = datetime(2025, 5, 17)\n",
    "\n",
    "engine = backtest_engine.BacktestEngine()\n",
    "backtest_result = await engine.async_backtest(current_dir, 'backtesting_pmm_trending_adaptive_v2_2.yml', start_date, end_date, '1m', 0.0002, 0.0001)\n",
    "fig = backtest_result.get_backtesting_figure()\n",
    "fig.show()\n",
    "\n",
    "if do_profile:\n",
    "    profiler.stop()\n",
    "    profiler.print()\n"
   ]
  },
  {
   "cell_type": "code",
   "execution_count": null,
   "id": "8aac35c0",
   "metadata": {},
   "outputs": [],
   "source": [
    "backtest_result = await engine.async_backtest(current_dir, 'backtesting_pmm_simple_voxel_1.yml', start_date, end_date, '1m')\n",
    "fig = backtest_result.get_backtesting_figure()\n",
    "fig.show()"
   ]
  }
 ],
 "metadata": {
  "kernelspec": {
   "display_name": "hummingbot",
   "language": "python",
   "name": "python3"
  },
  "language_info": {
   "codemirror_mode": {
    "name": "ipython",
    "version": 3
   },
   "file_extension": ".py",
   "mimetype": "text/x-python",
   "name": "python",
   "nbconvert_exporter": "python",
   "pygments_lexer": "ipython3",
   "version": "3.12.10"
  }
 },
 "nbformat": 4,
 "nbformat_minor": 5
}
