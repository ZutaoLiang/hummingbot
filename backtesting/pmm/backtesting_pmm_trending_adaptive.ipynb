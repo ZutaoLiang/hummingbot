{
 "cells": [
  {
   "cell_type": "code",
   "execution_count": null,
   "id": "d439b9cb",
   "metadata": {},
   "outputs": [],
   "source": [
    "import os\n",
    "import sys\n",
    "from datetime import datetime\n",
    "current_dir = os.getcwd()\n",
    "sys.path.append(os.path.join(current_dir, '../..'))\n",
    "from backtesting import backtest_engine\n",
    "\n",
    "start_date = datetime(2025, 5, 7)\n",
    "end_date = datetime(2025, 5, 8)\n",
    "\n",
    "engine = backtest_engine.BacktestEngine()\n",
    "backtest_result = await engine.async_backtest(current_dir, 'backtesting_pmm_simple_voxel_1.yml', start_date, end_date, '1m')\n",
    "fig = backtest_result.get_backtesting_figure()\n",
    "fig.show()\n",
    "\n",
    "# engine = backtesting_engine.BacktestingEngine()\n",
    "# backtesting_result = await engine.async_backtest(current_dir, 'backtesting_pmm_trending_adaptive_voxel_1.yml', datetime(2025, 5, 4).replace(hour=0, minute=0, second=0), datetime(2025, 5, 4).replace(hour=23, minute=59, second=59), '1m')\n",
    "# fig = backtesting_result.get_backtesting_figure()\n",
    "# fig.show()"
   ]
  },
  {
   "cell_type": "code",
   "execution_count": null,
   "id": "8aac35c0",
   "metadata": {},
   "outputs": [],
   "source": [
    "backtesting_result = await engine.async_backtest(current_dir, 'backtesting_pmm_simple_voxel_1.yml', datetime(2025, 5, 4), datetime(2025, 5, 5), '1m')\n",
    "fig = backtesting_result.get_backtesting_figure()\n",
    "fig.show()"
   ]
  }
 ],
 "metadata": {
  "kernelspec": {
   "display_name": "hummingbot",
   "language": "python",
   "name": "python3"
  },
  "language_info": {
   "codemirror_mode": {
    "name": "ipython",
    "version": 3
   },
   "file_extension": ".py",
   "mimetype": "text/x-python",
   "name": "python",
   "nbconvert_exporter": "python",
   "pygments_lexer": "ipython3",
   "version": "3.12.10"
  }
 },
 "nbformat": 4,
 "nbformat_minor": 5
}
