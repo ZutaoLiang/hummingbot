{
 "cells": [
  {
   "cell_type": "code",
   "execution_count": 1,
   "id": "d439b9cb",
   "metadata": {},
   "outputs": [
    {
     "name": "stderr",
     "output_type": "stream",
     "text": [
      "2025-06-07 21:02:34,452 - WARNING - \u001b[92m[0601/01:51:00-0601/02:13:00] Close TAKE_PROFIT limit: pnl=0.24097, pct=0.64%, entry@0.0116359, filled@0.0117224, amount=3222.00, quote=37.7695845, fee=0.0188848, SELL-LIMIT-CLOSE\u001b[0m\n",
      "2025-06-07 21:02:35,506 - WARNING - \u001b[91m[0601/03:52:00-0601/05:00:00] Close EARLY_STOP: pnl=-0.03851, pct=-0.10%, entry@0.0117521, filled@0.0117518, amount=3190.00, quote=37.4883095, fee=0.0187442, SELL-MARKET-CLOSE\u001b[0m\n"
     ]
    },
    {
     "name": "stdout",
     "output_type": "stream",
     "text": [
      "\n",
      "=====================================================================================================================================    \n",
      "[Batch-1(time:21s)]. Backtest result for 1000PEPE-USDT(1m) From: 2025-06-01 01:00:00 to: 2025-06-01 05:00:00 with trade cost: 0.05% and slippage:0.05%\n",
      "Net PNL: $0.20 (0.27%) | Max Drawdown: $-0.04 (-0.05%) | Sharpe Ratio: 1.73 | Profit Factor: 6.26\n",
      "Total Volume ($): 150.24 (fees: $0.08) | Total Executors: 132 (with Position: 2) | Accuracy: 50.00%\n",
      "Total Long: 2 | Accuracy Long: 50.00% | Total Short: 0 | Accuracy Short: 0.00%\n",
      "Close Types: Take Profit: 1 | Trailing Stop: 0 | Stop Loss: 0 | Time Limit: 0 | Early Stop: 131\n",
      "=====================================================================================================================================\n",
      "\n"
     ]
    },
    {
     "data": {
      "application/vnd.plotly.v1+json": {
       "config": {
        "plotlyServerURL": "https://plot.ly"
       },
       "data": [
        {
         "close": {
          "bdata": "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",
          "dtype": "f8"
         },
         "decreasing": {
          "line": {
           "color": "#E74C3C"
          }
         },
         "high": {
          "bdata": "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",
          "dtype": "f8"
         },
         "increasing": {
          "line": {
           "color": "#2ECC71"
          }
         },
         "low": {
          "bdata": "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",
          "dtype": "f8"
         },
         "name": "K-Lines",
         "open": {
          "bdata": "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",
          "dtype": "f8"
         },
         "type": "candlestick",
         "x": [
          "2025-06-01T01:00:00.000000000",
          "2025-06-01T01:01:00.000000000",
          "2025-06-01T01:02:00.000000000",
          "2025-06-01T01:03:00.000000000",
          "2025-06-01T01:04:00.000000000",
          "2025-06-01T01:05:00.000000000",
          "2025-06-01T01:06:00.000000000",
          "2025-06-01T01:07:00.000000000",
          "2025-06-01T01:08:00.000000000",
          "2025-06-01T01:09:00.000000000",
          "2025-06-01T01:10:00.000000000",
          "2025-06-01T01:11:00.000000000",
          "2025-06-01T01:12:00.000000000",
          "2025-06-01T01:13:00.000000000",
          "2025-06-01T01:14:00.000000000",
          "2025-06-01T01:15:00.000000000",
          "2025-06-01T01:16:00.000000000",
          "2025-06-01T01:17:00.000000000",
          "2025-06-01T01:18:00.000000000",
          "2025-06-01T01:19:00.000000000",
          "2025-06-01T01:20:00.000000000",
          "2025-06-01T01:21:00.000000000",
          "2025-06-01T01:22:00.000000000",
          "2025-06-01T01:23:00.000000000",
          "2025-06-01T01:24:00.000000000",
          "2025-06-01T01:25:00.000000000",
          "2025-06-01T01:26:00.000000000",
          "2025-06-01T01:27:00.000000000",
          "2025-06-01T01:28:00.000000000",
          "2025-06-01T01:29:00.000000000",
          "2025-06-01T01:30:00.000000000",
          "2025-06-01T01:31:00.000000000",
          "2025-06-01T01:32:00.000000000",
          "2025-06-01T01:33:00.000000000",
          "2025-06-01T01:34:00.000000000",
          "2025-06-01T01:35:00.000000000",
          "2025-06-01T01:36:00.000000000",
          "2025-06-01T01:37:00.000000000",
          "2025-06-01T01:38:00.000000000",
          "2025-06-01T01:39:00.000000000",
          "2025-06-01T01:40:00.000000000",
          "2025-06-01T01:41:00.000000000",
          "2025-06-01T01:42:00.000000000",
          "2025-06-01T01:43:00.000000000",
          "2025-06-01T01:44:00.000000000",
          "2025-06-01T01:45:00.000000000",
          "2025-06-01T01:46:00.000000000",
          "2025-06-01T01:47:00.000000000",
          "2025-06-01T01:48:00.000000000",
          "2025-06-01T01:49:00.000000000",
          "2025-06-01T01:50:00.000000000",
          "2025-06-01T01:51:00.000000000",
          "2025-06-01T01:52:00.000000000",
          "2025-06-01T01:53:00.000000000",
          "2025-06-01T01:54:00.000000000",
          "2025-06-01T01:55:00.000000000",
          "2025-06-01T01:56:00.000000000",
          "2025-06-01T01:57:00.000000000",
          "2025-06-01T01:58:00.000000000",
          "2025-06-01T01:59:00.000000000",
          "2025-06-01T02:00:00.000000000",
          "2025-06-01T02:01:00.000000000",
          "2025-06-01T02:02:00.000000000",
          "2025-06-01T02:03:00.000000000",
          "2025-06-01T02:04:00.000000000",
          "2025-06-01T02:05:00.000000000",
          "2025-06-01T02:06:00.000000000",
          "2025-06-01T02:07:00.000000000",
          "2025-06-01T02:08:00.000000000",
          "2025-06-01T02:09:00.000000000",
          "2025-06-01T02:10:00.000000000",
          "2025-06-01T02:11:00.000000000",
          "2025-06-01T02:12:00.000000000",
          "2025-06-01T02:13:00.000000000",
          "2025-06-01T02:14:00.000000000",
          "2025-06-01T02:15:00.000000000",
          "2025-06-01T02:16:00.000000000",
          "2025-06-01T02:17:00.000000000",
          "2025-06-01T02:18:00.000000000",
          "2025-06-01T02:19:00.000000000",
          "2025-06-01T02:20:00.000000000",
          "2025-06-01T02:21:00.000000000",
          "2025-06-01T02:22:00.000000000",
          "2025-06-01T02:23:00.000000000",
          "2025-06-01T02:24:00.000000000",
          "2025-06-01T02:25:00.000000000",
          "2025-06-01T02:26:00.000000000",
          "2025-06-01T02:27:00.000000000",
          "2025-06-01T02:28:00.000000000",
          "2025-06-01T02:29:00.000000000",
          "2025-06-01T02:30:00.000000000",
          "2025-06-01T02:31:00.000000000",
          "2025-06-01T02:32:00.000000000",
          "2025-06-01T02:33:00.000000000",
          "2025-06-01T02:34:00.000000000",
          "2025-06-01T02:35:00.000000000",
          "2025-06-01T02:36:00.000000000",
          "2025-06-01T02:37:00.000000000",
          "2025-06-01T02:38:00.000000000",
          "2025-06-01T02:39:00.000000000",
          "2025-06-01T02:40:00.000000000",
          "2025-06-01T02:41:00.000000000",
          "2025-06-01T02:42:00.000000000",
          "2025-06-01T02:43:00.000000000",
          "2025-06-01T02:44:00.000000000",
          "2025-06-01T02:45:00.000000000",
          "2025-06-01T02:46:00.000000000",
          "2025-06-01T02:47:00.000000000",
          "2025-06-01T02:48:00.000000000",
          "2025-06-01T02:49:00.000000000",
          "2025-06-01T02:50:00.000000000",
          "2025-06-01T02:51:00.000000000",
          "2025-06-01T02:52:00.000000000",
          "2025-06-01T02:53:00.000000000",
          "2025-06-01T02:54:00.000000000",
          "2025-06-01T02:55:00.000000000",
          "2025-06-01T02:56:00.000000000",
          "2025-06-01T02:57:00.000000000",
          "2025-06-01T02:58:00.000000000",
          "2025-06-01T02:59:00.000000000",
          "2025-06-01T03:00:00.000000000",
          "2025-06-01T03:01:00.000000000",
          "2025-06-01T03:02:00.000000000",
          "2025-06-01T03:03:00.000000000",
          "2025-06-01T03:04:00.000000000",
          "2025-06-01T03:05:00.000000000",
          "2025-06-01T03:06:00.000000000",
          "2025-06-01T03:07:00.000000000",
          "2025-06-01T03:08:00.000000000",
          "2025-06-01T03:09:00.000000000",
          "2025-06-01T03:10:00.000000000",
          "2025-06-01T03:11:00.000000000",
          "2025-06-01T03:12:00.000000000",
          "2025-06-01T03:13:00.000000000",
          "2025-06-01T03:14:00.000000000",
          "2025-06-01T03:15:00.000000000",
          "2025-06-01T03:16:00.000000000",
          "2025-06-01T03:17:00.000000000",
          "2025-06-01T03:18:00.000000000",
          "2025-06-01T03:19:00.000000000",
          "2025-06-01T03:20:00.000000000",
          "2025-06-01T03:21:00.000000000",
          "2025-06-01T03:22:00.000000000",
          "2025-06-01T03:23:00.000000000",
          "2025-06-01T03:24:00.000000000",
          "2025-06-01T03:25:00.000000000",
          "2025-06-01T03:26:00.000000000",
          "2025-06-01T03:27:00.000000000",
          "2025-06-01T03:28:00.000000000",
          "2025-06-01T03:29:00.000000000",
          "2025-06-01T03:30:00.000000000",
          "2025-06-01T03:31:00.000000000",
          "2025-06-01T03:32:00.000000000",
          "2025-06-01T03:33:00.000000000",
          "2025-06-01T03:34:00.000000000",
          "2025-06-01T03:35:00.000000000",
          "2025-06-01T03:36:00.000000000",
          "2025-06-01T03:37:00.000000000",
          "2025-06-01T03:38:00.000000000",
          "2025-06-01T03:39:00.000000000",
          "2025-06-01T03:40:00.000000000",
          "2025-06-01T03:41:00.000000000",
          "2025-06-01T03:42:00.000000000",
          "2025-06-01T03:43:00.000000000",
          "2025-06-01T03:44:00.000000000",
          "2025-06-01T03:45:00.000000000",
          "2025-06-01T03:46:00.000000000",
          "2025-06-01T03:47:00.000000000",
          "2025-06-01T03:48:00.000000000",
          "2025-06-01T03:49:00.000000000",
          "2025-06-01T03:50:00.000000000",
          "2025-06-01T03:51:00.000000000",
          "2025-06-01T03:52:00.000000000",
          "2025-06-01T03:53:00.000000000",
          "2025-06-01T03:54:00.000000000",
          "2025-06-01T03:55:00.000000000",
          "2025-06-01T03:56:00.000000000",
          "2025-06-01T03:57:00.000000000",
          "2025-06-01T03:58:00.000000000",
          "2025-06-01T03:59:00.000000000",
          "2025-06-01T04:00:00.000000000",
          "2025-06-01T04:01:00.000000000",
          "2025-06-01T04:02:00.000000000",
          "2025-06-01T04:03:00.000000000",
          "2025-06-01T04:04:00.000000000",
          "2025-06-01T04:05:00.000000000",
          "2025-06-01T04:06:00.000000000",
          "2025-06-01T04:07:00.000000000",
          "2025-06-01T04:08:00.000000000",
          "2025-06-01T04:09:00.000000000",
          "2025-06-01T04:10:00.000000000",
          "2025-06-01T04:11:00.000000000",
          "2025-06-01T04:12:00.000000000",
          "2025-06-01T04:13:00.000000000",
          "2025-06-01T04:14:00.000000000",
          "2025-06-01T04:15:00.000000000",
          "2025-06-01T04:16:00.000000000",
          "2025-06-01T04:17:00.000000000",
          "2025-06-01T04:18:00.000000000",
          "2025-06-01T04:19:00.000000000",
          "2025-06-01T04:20:00.000000000",
          "2025-06-01T04:21:00.000000000",
          "2025-06-01T04:22:00.000000000",
          "2025-06-01T04:23:00.000000000",
          "2025-06-01T04:24:00.000000000",
          "2025-06-01T04:25:00.000000000",
          "2025-06-01T04:26:00.000000000",
          "2025-06-01T04:27:00.000000000",
          "2025-06-01T04:28:00.000000000",
          "2025-06-01T04:29:00.000000000",
          "2025-06-01T04:30:00.000000000",
          "2025-06-01T04:31:00.000000000",
          "2025-06-01T04:32:00.000000000",
          "2025-06-01T04:33:00.000000000",
          "2025-06-01T04:34:00.000000000",
          "2025-06-01T04:35:00.000000000",
          "2025-06-01T04:36:00.000000000",
          "2025-06-01T04:37:00.000000000",
          "2025-06-01T04:38:00.000000000",
          "2025-06-01T04:39:00.000000000",
          "2025-06-01T04:40:00.000000000",
          "2025-06-01T04:41:00.000000000",
          "2025-06-01T04:42:00.000000000",
          "2025-06-01T04:43:00.000000000",
          "2025-06-01T04:44:00.000000000",
          "2025-06-01T04:45:00.000000000",
          "2025-06-01T04:46:00.000000000",
          "2025-06-01T04:47:00.000000000",
          "2025-06-01T04:48:00.000000000",
          "2025-06-01T04:49:00.000000000",
          "2025-06-01T04:50:00.000000000",
          "2025-06-01T04:51:00.000000000",
          "2025-06-01T04:52:00.000000000",
          "2025-06-01T04:53:00.000000000",
          "2025-06-01T04:54:00.000000000",
          "2025-06-01T04:55:00.000000000",
          "2025-06-01T04:56:00.000000000",
          "2025-06-01T04:57:00.000000000",
          "2025-06-01T04:58:00.000000000",
          "2025-06-01T04:59:00.000000000",
          "2025-06-01T05:00:00.000000000"
         ],
         "xaxis": "x",
         "yaxis": "y"
        },
        {
         "line": {
          "color": "grey",
          "width": 3
         },
         "mode": "lines",
         "name": "Buy-EarlyStop",
         "showlegend": false,
         "type": "scatter",
         "x": [
          "2025-06-01T01:00:00",
          "2025-06-01T01:02:00"
         ],
         "xaxis": "x",
         "y": [
          0.011641606949485626,
          0.011641606949485626
         ],
         "yaxis": "y"
        },
        {
         "line": {
          "color": "grey",
          "width": 3
         },
         "mode": "lines",
         "name": "Sell-EarlyStop",
         "showlegend": false,
         "type": "scatter",
         "x": [
          "2025-06-01T01:00:00",
          "2025-06-01T01:02:00"
         ],
         "xaxis": "x",
         "y": [
          0.011808193050514374,
          0.011808193050514374
         ],
         "yaxis": "y"
        },
        {
         "line": {
          "color": "grey",
          "width": 3
         },
         "mode": "lines",
         "name": "Buy-EarlyStop",
         "showlegend": false,
         "type": "scatter",
         "x": [
          "2025-06-01T01:03:00",
          "2025-06-01T01:05:00"
         ],
         "xaxis": "x",
         "y": [
          0.011615106762701423,
          0.011615106762701423
         ],
         "yaxis": "y"
        },
        {
         "line": {
          "color": "grey",
          "width": 3
         },
         "mode": "lines",
         "name": "Sell-EarlyStop",
         "showlegend": false,
         "type": "scatter",
         "x": [
          "2025-06-01T01:03:00",
          "2025-06-01T01:05:00"
         ],
         "xaxis": "x",
         "y": [
          0.011784093237298576,
          0.011784093237298576
         ],
         "yaxis": "y"
        },
        {
         "line": {
          "color": "grey",
          "width": 3
         },
         "mode": "lines",
         "name": "Buy-EarlyStop",
         "showlegend": false,
         "type": "scatter",
         "x": [
          "2025-06-01T01:06:00",
          "2025-06-01T01:08:00"
         ],
         "xaxis": "x",
         "y": [
          0.011595777181640557,
          0.011595777181640557
         ],
         "yaxis": "y"
        },
        {
         "line": {
          "color": "grey",
          "width": 3
         },
         "mode": "lines",
         "name": "Sell-EarlyStop",
         "showlegend": false,
         "type": "scatter",
         "x": [
          "2025-06-01T01:06:00",
          "2025-06-01T01:08:00"
         ],
         "xaxis": "x",
         "y": [
          0.011795422818359444,
          0.011795422818359444
         ],
         "yaxis": "y"
        },
        {
         "line": {
          "color": "grey",
          "width": 3
         },
         "mode": "lines",
         "name": "Buy-EarlyStop",
         "showlegend": false,
         "type": "scatter",
         "x": [
          "2025-06-01T01:09:00",
          "2025-06-01T01:11:00"
         ],
         "xaxis": "x",
         "y": [
          0.011603446665402755,
          0.011603446665402755
         ],
         "yaxis": "y"
        },
        {
         "line": {
          "color": "grey",
          "width": 3
         },
         "mode": "lines",
         "name": "Sell-EarlyStop",
         "showlegend": false,
         "type": "scatter",
         "x": [
          "2025-06-01T01:09:00",
          "2025-06-01T01:11:00"
         ],
         "xaxis": "x",
         "y": [
          0.011796153334597244,
          0.011796153334597244
         ],
         "yaxis": "y"
        },
        {
         "line": {
          "color": "grey",
          "width": 3
         },
         "mode": "lines",
         "name": "Buy-EarlyStop",
         "showlegend": false,
         "type": "scatter",
         "x": [
          "2025-06-01T01:12:00",
          "2025-06-01T01:14:00"
         ],
         "xaxis": "x",
         "y": [
          0.011592146530727869,
          0.011592146530727869
         ],
         "yaxis": "y"
        },
        {
         "line": {
          "color": "grey",
          "width": 3
         },
         "mode": "lines",
         "name": "Sell-EarlyStop",
         "showlegend": false,
         "type": "scatter",
         "x": [
          "2025-06-01T01:12:00",
          "2025-06-01T01:14:00"
         ],
         "xaxis": "x",
         "y": [
          0.011769253469272128,
          0.011769253469272128
         ],
         "yaxis": "y"
        },
        {
         "line": {
          "color": "grey",
          "width": 3
         },
         "mode": "lines",
         "name": "Buy-EarlyStop",
         "showlegend": false,
         "type": "scatter",
         "x": [
          "2025-06-01T01:15:00",
          "2025-06-01T01:17:00"
         ],
         "xaxis": "x",
         "y": [
          0.01160704654636036,
          0.01160704654636036
         ],
         "yaxis": "y"
        },
        {
         "line": {
          "color": "grey",
          "width": 3
         },
         "mode": "lines",
         "name": "Sell-EarlyStop",
         "showlegend": false,
         "type": "scatter",
         "x": [
          "2025-06-01T01:15:00",
          "2025-06-01T01:17:00"
         ],
         "xaxis": "x",
         "y": [
          0.011776153453639639,
          0.011776153453639639
         ],
         "yaxis": "y"
        },
        {
         "line": {
          "color": "grey",
          "width": 3
         },
         "mode": "lines",
         "name": "Buy-EarlyStop",
         "showlegend": false,
         "type": "scatter",
         "x": [
          "2025-06-01T01:18:00",
          "2025-06-01T01:20:00"
         ],
         "xaxis": "x",
         "y": [
          0.011620035263434445,
          0.011620035263434445
         ],
         "yaxis": "y"
        },
        {
         "line": {
          "color": "grey",
          "width": 3
         },
         "mode": "lines",
         "name": "Sell-EarlyStop",
         "showlegend": false,
         "type": "scatter",
         "x": [
          "2025-06-01T01:18:00",
          "2025-06-01T01:20:00"
         ],
         "xaxis": "x",
         "y": [
          0.011792864736565555,
          0.011792864736565555
         ],
         "yaxis": "y"
        },
        {
         "line": {
          "color": "grey",
          "width": 3
         },
         "mode": "lines",
         "name": "Buy-EarlyStop",
         "showlegend": false,
         "type": "scatter",
         "x": [
          "2025-06-01T01:21:00",
          "2025-06-01T01:23:00"
         ],
         "xaxis": "x",
         "y": [
          0.011637357784563452,
          0.011637357784563452
         ],
         "yaxis": "y"
        },
        {
         "line": {
          "color": "grey",
          "width": 3
         },
         "mode": "lines",
         "name": "Sell-EarlyStop",
         "showlegend": false,
         "type": "scatter",
         "x": [
          "2025-06-01T01:21:00",
          "2025-06-01T01:23:00"
         ],
         "xaxis": "x",
         "y": [
          0.011804742215436549,
          0.011804742215436549
         ],
         "yaxis": "y"
        },
        {
         "line": {
          "color": "grey",
          "width": 3
         },
         "mode": "lines",
         "name": "Buy-EarlyStop",
         "showlegend": false,
         "type": "scatter",
         "x": [
          "2025-06-01T01:24:00",
          "2025-06-01T01:26:00"
         ],
         "xaxis": "x",
         "y": [
          0.011623382298123016,
          0.011623382298123016
         ],
         "yaxis": "y"
        },
        {
         "line": {
          "color": "grey",
          "width": 3
         },
         "mode": "lines",
         "name": "Sell-EarlyStop",
         "showlegend": false,
         "type": "scatter",
         "x": [
          "2025-06-01T01:24:00",
          "2025-06-01T01:26:00"
         ],
         "xaxis": "x",
         "y": [
          0.011776017701876985,
          0.011776017701876985
         ],
         "yaxis": "y"
        },
        {
         "line": {
          "color": "grey",
          "width": 3
         },
         "mode": "lines",
         "name": "Buy-EarlyStop",
         "showlegend": false,
         "type": "scatter",
         "x": [
          "2025-06-01T01:27:00",
          "2025-06-01T01:29:00"
         ],
         "xaxis": "x",
         "y": [
          0.011623412799247945,
          0.011623412799247945
         ],
         "yaxis": "y"
        },
        {
         "line": {
          "color": "grey",
          "width": 3
         },
         "mode": "lines",
         "name": "Sell-EarlyStop",
         "showlegend": false,
         "type": "scatter",
         "x": [
          "2025-06-01T01:27:00",
          "2025-06-01T01:29:00"
         ],
         "xaxis": "x",
         "y": [
          0.011772487200752055,
          0.011772487200752055
         ],
         "yaxis": "y"
        },
        {
         "line": {
          "color": "grey",
          "width": 3
         },
         "mode": "lines",
         "name": "Buy-EarlyStop",
         "showlegend": false,
         "type": "scatter",
         "x": [
          "2025-06-01T01:30:00",
          "2025-06-01T01:32:00"
         ],
         "xaxis": "x",
         "y": [
          0.011616321340070603,
          0.011616321340070603
         ],
         "yaxis": "y"
        },
        {
         "line": {
          "color": "grey",
          "width": 3
         },
         "mode": "lines",
         "name": "Sell-EarlyStop",
         "showlegend": false,
         "type": "scatter",
         "x": [
          "2025-06-01T01:30:00",
          "2025-06-01T01:32:00"
         ],
         "xaxis": "x",
         "y": [
          0.011758678659929397,
          0.011758678659929397
         ],
         "yaxis": "y"
        },
        {
         "line": {
          "color": "grey",
          "width": 3
         },
         "mode": "lines",
         "name": "Buy-EarlyStop",
         "showlegend": false,
         "type": "scatter",
         "x": [
          "2025-06-01T01:33:00",
          "2025-06-01T01:35:00"
         ],
         "xaxis": "x",
         "y": [
          0.011606500194173612,
          0.011606500194173612
         ],
         "yaxis": "y"
        },
        {
         "line": {
          "color": "grey",
          "width": 3
         },
         "mode": "lines",
         "name": "Sell-EarlyStop",
         "showlegend": false,
         "type": "scatter",
         "x": [
          "2025-06-01T01:33:00",
          "2025-06-01T01:35:00"
         ],
         "xaxis": "x",
         "y": [
          0.01175529980582639,
          0.01175529980582639
         ],
         "yaxis": "y"
        },
        {
         "line": {
          "color": "grey",
          "width": 3
         },
         "mode": "lines",
         "name": "Buy-EarlyStop",
         "showlegend": false,
         "type": "scatter",
         "x": [
          "2025-06-01T01:36:00",
          "2025-06-01T01:38:00"
         ],
         "xaxis": "x",
         "y": [
          0.011640966729730046,
          0.011640966729730046
         ],
         "yaxis": "y"
        },
        {
         "line": {
          "color": "grey",
          "width": 3
         },
         "mode": "lines",
         "name": "Sell-EarlyStop",
         "showlegend": false,
         "type": "scatter",
         "x": [
          "2025-06-01T01:36:00",
          "2025-06-01T01:38:00"
         ],
         "xaxis": "x",
         "y": [
          0.011880166540539909,
          0.011880166540539909
         ],
         "yaxis": "y"
        },
        {
         "line": {
          "color": "grey",
          "width": 3
         },
         "mode": "lines",
         "name": "Buy-EarlyStop",
         "showlegend": false,
         "type": "scatter",
         "x": [
          "2025-06-01T01:39:00",
          "2025-06-01T01:41:00"
         ],
         "xaxis": "x",
         "y": [
          0.011663655266694432,
          0.011663655266694432
         ],
         "yaxis": "y"
        },
        {
         "line": {
          "color": "grey",
          "width": 3
         },
         "mode": "lines",
         "name": "Sell-EarlyStop",
         "showlegend": false,
         "type": "scatter",
         "x": [
          "2025-06-01T01:39:00",
          "2025-06-01T01:41:00"
         ],
         "xaxis": "x",
         "y": [
          0.01193438946661114,
          0.01193438946661114
         ],
         "yaxis": "y"
        },
        {
         "line": {
          "color": "grey",
          "width": 3
         },
         "mode": "lines",
         "name": "Buy-EarlyStop",
         "showlegend": false,
         "type": "scatter",
         "x": [
          "2025-06-01T01:42:00",
          "2025-06-01T01:44:00"
         ],
         "xaxis": "x",
         "y": [
          0.011674167182204839,
          0.011674167182204839
         ],
         "yaxis": "y"
        },
        {
         "line": {
          "color": "grey",
          "width": 3
         },
         "mode": "lines",
         "name": "Sell-EarlyStop",
         "showlegend": false,
         "type": "scatter",
         "x": [
          "2025-06-01T01:42:00",
          "2025-06-01T01:44:00"
         ],
         "xaxis": "x",
         "y": [
          0.011901065635590322,
          0.011901065635590322
         ],
         "yaxis": "y"
        },
        {
         "line": {
          "color": "grey",
          "width": 3
         },
         "mode": "lines",
         "name": "Buy-EarlyStop",
         "showlegend": false,
         "type": "scatter",
         "x": [
          "2025-06-01T01:45:00",
          "2025-06-01T01:47:00"
         ],
         "xaxis": "x",
         "y": [
          0.011647109929781274,
          0.011647109929781274
         ],
         "yaxis": "y"
        },
        {
         "line": {
          "color": "grey",
          "width": 3
         },
         "mode": "lines",
         "name": "Sell-EarlyStop",
         "showlegend": false,
         "type": "scatter",
         "x": [
          "2025-06-01T01:45:00",
          "2025-06-01T01:47:00"
         ],
         "xaxis": "x",
         "y": [
          0.011804090070218725,
          0.011804090070218725
         ],
         "yaxis": "y"
        },
        {
         "line": {
          "color": "grey",
          "width": 3
         },
         "mode": "lines",
         "name": "Buy-EarlyStop",
         "showlegend": false,
         "type": "scatter",
         "x": [
          "2025-06-01T01:48:00",
          "2025-06-01T01:50:00"
         ],
         "xaxis": "x",
         "y": [
          0.011618700495754837,
          0.011618700495754837
         ],
         "yaxis": "y"
        },
        {
         "line": {
          "color": "grey",
          "width": 3
         },
         "mode": "lines",
         "name": "Sell-EarlyStop",
         "showlegend": false,
         "type": "scatter",
         "x": [
          "2025-06-01T01:48:00",
          "2025-06-01T01:50:00"
         ],
         "xaxis": "x",
         "y": [
          0.011766599504245164,
          0.011766599504245164
         ],
         "yaxis": "y"
        },
        {
         "line": {
          "color": "grey",
          "width": 3
         },
         "mode": "lines",
         "name": "Sell-EarlyStop",
         "showlegend": false,
         "type": "scatter",
         "x": [
          "2025-06-01T01:51:00",
          "2025-06-01T01:53:00"
         ],
         "xaxis": "x",
         "y": [
          0.0117663647329652,
          0.0117663647329652
         ],
         "yaxis": "y"
        },
        {
         "line": {
          "color": "grey",
          "width": 3
         },
         "mode": "lines",
         "name": "Sell-EarlyStop",
         "showlegend": false,
         "type": "scatter",
         "x": [
          "2025-06-01T01:54:00",
          "2025-06-01T01:56:00"
         ],
         "xaxis": "x",
         "y": [
          0.011715526680980066,
          0.011715526680980066
         ],
         "yaxis": "y"
        },
        {
         "line": {
          "color": "grey",
          "width": 3
         },
         "mode": "lines",
         "name": "Sell-EarlyStop",
         "showlegend": false,
         "type": "scatter",
         "x": [
          "2025-06-01T01:57:00",
          "2025-06-01T01:59:00"
         ],
         "xaxis": "x",
         "y": [
          0.01169882773608136,
          0.01169882773608136
         ],
         "yaxis": "y"
        },
        {
         "line": {
          "color": "grey",
          "width": 3
         },
         "mode": "lines",
         "name": "Sell-EarlyStop",
         "showlegend": false,
         "type": "scatter",
         "x": [
          "2025-06-01T02:00:00",
          "2025-06-01T02:02:00"
         ],
         "xaxis": "x",
         "y": [
          0.01168813081878584,
          0.01168813081878584
         ],
         "yaxis": "y"
        },
        {
         "line": {
          "color": "grey",
          "width": 3
         },
         "mode": "lines",
         "name": "Sell-EarlyStop",
         "showlegend": false,
         "type": "scatter",
         "x": [
          "2025-06-01T02:03:00",
          "2025-06-01T02:05:00"
         ],
         "xaxis": "x",
         "y": [
          0.011718296755641679,
          0.011718296755641679
         ],
         "yaxis": "y"
        },
        {
         "line": {
          "color": "grey",
          "width": 3
         },
         "mode": "lines",
         "name": "Sell-EarlyStop",
         "showlegend": false,
         "type": "scatter",
         "x": [
          "2025-06-01T02:06:00",
          "2025-06-01T02:08:00"
         ],
         "xaxis": "x",
         "y": [
          0.011761753249765269,
          0.011761753249765269
         ],
         "yaxis": "y"
        },
        {
         "line": {
          "color": "grey",
          "width": 3
         },
         "mode": "lines",
         "name": "Sell-EarlyStop",
         "showlegend": false,
         "type": "scatter",
         "x": [
          "2025-06-01T02:09:00",
          "2025-06-01T02:11:00"
         ],
         "xaxis": "x",
         "y": [
          0.011760708951248039,
          0.011760708951248039
         ],
         "yaxis": "y"
        },
        {
         "line": {
          "color": "blue",
          "width": 4
         },
         "mode": "lines",
         "name": "Buy-TakeProfit",
         "showlegend": true,
         "type": "scatter",
         "x": [
          "2025-06-01T01:51:00",
          "2025-06-01T01:51:00"
         ],
         "xaxis": "x",
         "y": [
          0.0116359352670348,
          0.0116359352670348
         ],
         "yaxis": "y"
        },
        {
         "line": {
          "color": "lime",
          "width": 4
         },
         "mode": "lines",
         "name": "Buy-TakeProfit",
         "showlegend": true,
         "type": "scatter",
         "x": [
          "2025-06-01T01:51:00",
          "2025-06-01T02:13:00"
         ],
         "xaxis": "x",
         "y": [
          0.0116359352670348,
          0.011722403623990033
         ],
         "yaxis": "y"
        },
        {
         "line": {
          "color": "grey",
          "width": 3
         },
         "mode": "lines",
         "name": "Sell-EarlyStop",
         "showlegend": false,
         "type": "scatter",
         "x": [
          "2025-06-01T02:12:00",
          "2025-06-01T02:14:00"
         ],
         "xaxis": "x",
         "y": [
          0.011780172075626802,
          0.011780172075626802
         ],
         "yaxis": "y"
        },
        {
         "line": {
          "color": "grey",
          "width": 3
         },
         "mode": "lines",
         "name": "Buy-EarlyStop",
         "showlegend": false,
         "type": "scatter",
         "x": [
          "2025-06-01T02:14:00",
          "2025-06-01T02:16:00"
         ],
         "xaxis": "x",
         "y": [
          0.011647958117009269,
          0.011647958117009269
         ],
         "yaxis": "y"
        },
        {
         "line": {
          "color": "grey",
          "width": 3
         },
         "mode": "lines",
         "name": "Sell-EarlyStop",
         "showlegend": false,
         "type": "scatter",
         "x": [
          "2025-06-01T02:15:00",
          "2025-06-01T02:17:00"
         ],
         "xaxis": "x",
         "y": [
          0.0118637004947314,
          0.0118637004947314
         ],
         "yaxis": "y"
        },
        {
         "line": {
          "color": "grey",
          "width": 3
         },
         "mode": "lines",
         "name": "Buy-EarlyStop",
         "showlegend": false,
         "type": "scatter",
         "x": [
          "2025-06-01T02:17:00",
          "2025-06-01T02:19:00"
         ],
         "xaxis": "x",
         "y": [
          0.011644565378419144,
          0.011644565378419144
         ],
         "yaxis": "y"
        },
        {
         "line": {
          "color": "grey",
          "width": 3
         },
         "mode": "lines",
         "name": "Sell-EarlyStop",
         "showlegend": false,
         "type": "scatter",
         "x": [
          "2025-06-01T02:18:00",
          "2025-06-01T02:20:00"
         ],
         "xaxis": "x",
         "y": [
          0.011873806427592141,
          0.011873806427592141
         ],
         "yaxis": "y"
        },
        {
         "line": {
          "color": "grey",
          "width": 3
         },
         "mode": "lines",
         "name": "Buy-EarlyStop",
         "showlegend": false,
         "type": "scatter",
         "x": [
          "2025-06-01T02:20:00",
          "2025-06-01T02:22:00"
         ],
         "xaxis": "x",
         "y": [
          0.011682565956877791,
          0.011682565956877791
         ],
         "yaxis": "y"
        },
        {
         "line": {
          "color": "grey",
          "width": 3
         },
         "mode": "lines",
         "name": "Sell-EarlyStop",
         "showlegend": false,
         "type": "scatter",
         "x": [
          "2025-06-01T02:21:00",
          "2025-06-01T02:23:00"
         ],
         "xaxis": "x",
         "y": [
          0.011901704681765808,
          0.011901704681765808
         ],
         "yaxis": "y"
        },
        {
         "line": {
          "color": "grey",
          "width": 3
         },
         "mode": "lines",
         "name": "Buy-EarlyStop",
         "showlegend": false,
         "type": "scatter",
         "x": [
          "2025-06-01T02:23:00",
          "2025-06-01T02:25:00"
         ],
         "xaxis": "x",
         "y": [
          0.011693888675588866,
          0.011693888675588866
         ],
         "yaxis": "y"
        },
        {
         "line": {
          "color": "grey",
          "width": 3
         },
         "mode": "lines",
         "name": "Sell-EarlyStop",
         "showlegend": false,
         "type": "scatter",
         "x": [
          "2025-06-01T02:24:00",
          "2025-06-01T02:26:00"
         ],
         "xaxis": "x",
         "y": [
          0.011816598691052178,
          0.011816598691052178
         ],
         "yaxis": "y"
        },
        {
         "line": {
          "color": "grey",
          "width": 3
         },
         "mode": "lines",
         "name": "Buy-EarlyStop",
         "showlegend": false,
         "type": "scatter",
         "x": [
          "2025-06-01T02:26:00",
          "2025-06-01T02:28:00"
         ],
         "xaxis": "x",
         "y": [
          0.011660984306292576,
          0.011660984306292576
         ],
         "yaxis": "y"
        },
        {
         "line": {
          "color": "grey",
          "width": 3
         },
         "mode": "lines",
         "name": "Sell-EarlyStop",
         "showlegend": false,
         "type": "scatter",
         "x": [
          "2025-06-01T02:27:00",
          "2025-06-01T02:29:00"
         ],
         "xaxis": "x",
         "y": [
          0.011786614416396909,
          0.011786614416396909
         ],
         "yaxis": "y"
        },
        {
         "line": {
          "color": "grey",
          "width": 3
         },
         "mode": "lines",
         "name": "Buy-EarlyStop",
         "showlegend": false,
         "type": "scatter",
         "x": [
          "2025-06-01T02:29:00",
          "2025-06-01T02:31:00"
         ],
         "xaxis": "x",
         "y": [
          0.011645551302612555,
          0.011645551302612555
         ],
         "yaxis": "y"
        },
        {
         "line": {
          "color": "grey",
          "width": 3
         },
         "mode": "lines",
         "name": "Sell-EarlyStop",
         "showlegend": false,
         "type": "scatter",
         "x": [
          "2025-06-01T02:30:00",
          "2025-06-01T02:32:00"
         ],
         "xaxis": "x",
         "y": [
          0.01178993117718114,
          0.01178993117718114
         ],
         "yaxis": "y"
        },
        {
         "line": {
          "color": "grey",
          "width": 3
         },
         "mode": "lines",
         "name": "Buy-EarlyStop",
         "showlegend": false,
         "type": "scatter",
         "x": [
          "2025-06-01T02:32:00",
          "2025-06-01T02:34:00"
         ],
         "xaxis": "x",
         "y": [
          0.011656602080646544,
          0.011656602080646544
         ],
         "yaxis": "y"
        },
        {
         "line": {
          "color": "grey",
          "width": 3
         },
         "mode": "lines",
         "name": "Sell-EarlyStop",
         "showlegend": false,
         "type": "scatter",
         "x": [
          "2025-06-01T02:33:00",
          "2025-06-01T02:35:00"
         ],
         "xaxis": "x",
         "y": [
          0.011801005740215859,
          0.011801005740215859
         ],
         "yaxis": "y"
        },
        {
         "line": {
          "color": "grey",
          "width": 3
         },
         "mode": "lines",
         "name": "Buy-EarlyStop",
         "showlegend": false,
         "type": "scatter",
         "x": [
          "2025-06-01T02:35:00",
          "2025-06-01T02:37:00"
         ],
         "xaxis": "x",
         "y": [
          0.011686807755747134,
          0.011686807755747134
         ],
         "yaxis": "y"
        },
        {
         "line": {
          "color": "grey",
          "width": 3
         },
         "mode": "lines",
         "name": "Sell-EarlyStop",
         "showlegend": false,
         "type": "scatter",
         "x": [
          "2025-06-01T02:36:00",
          "2025-06-01T02:38:00"
         ],
         "xaxis": "x",
         "y": [
          0.011870374617864365,
          0.011870374617864365
         ],
         "yaxis": "y"
        },
        {
         "line": {
          "color": "grey",
          "width": 3
         },
         "mode": "lines",
         "name": "Buy-EarlyStop",
         "showlegend": false,
         "type": "scatter",
         "x": [
          "2025-06-01T02:38:00",
          "2025-06-01T02:40:00"
         ],
         "xaxis": "x",
         "y": [
          0.01166961456210885,
          0.01166961456210885
         ],
         "yaxis": "y"
        },
        {
         "line": {
          "color": "grey",
          "width": 3
         },
         "mode": "lines",
         "name": "Sell-EarlyStop",
         "showlegend": false,
         "type": "scatter",
         "x": [
          "2025-06-01T02:39:00",
          "2025-06-01T02:41:00"
         ],
         "xaxis": "x",
         "y": [
          0.011799200968980858,
          0.011799200968980858
         ],
         "yaxis": "y"
        },
        {
         "line": {
          "color": "grey",
          "width": 3
         },
         "mode": "lines",
         "name": "Buy-EarlyStop",
         "showlegend": false,
         "type": "scatter",
         "x": [
          "2025-06-01T02:41:00",
          "2025-06-01T02:43:00"
         ],
         "xaxis": "x",
         "y": [
          0.011675529946424764,
          0.011675529946424764
         ],
         "yaxis": "y"
        },
        {
         "line": {
          "color": "grey",
          "width": 3
         },
         "mode": "lines",
         "name": "Sell-EarlyStop",
         "showlegend": false,
         "type": "scatter",
         "x": [
          "2025-06-01T02:42:00",
          "2025-06-01T02:44:00"
         ],
         "xaxis": "x",
         "y": [
          0.011782719759326422,
          0.011782719759326422
         ],
         "yaxis": "y"
        },
        {
         "line": {
          "color": "grey",
          "width": 3
         },
         "mode": "lines",
         "name": "Buy-EarlyStop",
         "showlegend": false,
         "type": "scatter",
         "x": [
          "2025-06-01T02:44:00",
          "2025-06-01T02:46:00"
         ],
         "xaxis": "x",
         "y": [
          0.011596678465244682,
          0.011596678465244682
         ],
         "yaxis": "y"
        },
        {
         "line": {
          "color": "grey",
          "width": 3
         },
         "mode": "lines",
         "name": "Sell-EarlyStop",
         "showlegend": false,
         "type": "scatter",
         "x": [
          "2025-06-01T02:45:00",
          "2025-06-01T02:47:00"
         ],
         "xaxis": "x",
         "y": [
          0.01176691430021746,
          0.01176691430021746
         ],
         "yaxis": "y"
        },
        {
         "line": {
          "color": "grey",
          "width": 3
         },
         "mode": "lines",
         "name": "Buy-EarlyStop",
         "showlegend": false,
         "type": "scatter",
         "x": [
          "2025-06-01T02:47:00",
          "2025-06-01T02:49:00"
         ],
         "xaxis": "x",
         "y": [
          0.011583097823031735,
          0.011583097823031735
         ],
         "yaxis": "y"
        },
        {
         "line": {
          "color": "grey",
          "width": 3
         },
         "mode": "lines",
         "name": "Sell-EarlyStop",
         "showlegend": false,
         "type": "scatter",
         "x": [
          "2025-06-01T02:48:00",
          "2025-06-01T02:50:00"
         ],
         "xaxis": "x",
         "y": [
          0.011772236520163716,
          0.011772236520163716
         ],
         "yaxis": "y"
        },
        {
         "line": {
          "color": "grey",
          "width": 3
         },
         "mode": "lines",
         "name": "Buy-EarlyStop",
         "showlegend": false,
         "type": "scatter",
         "x": [
          "2025-06-01T02:50:00",
          "2025-06-01T02:52:00"
         ],
         "xaxis": "x",
         "y": [
          0.011578631228435584,
          0.011578631228435584
         ],
         "yaxis": "y"
        },
        {
         "line": {
          "color": "grey",
          "width": 3
         },
         "mode": "lines",
         "name": "Sell-EarlyStop",
         "showlegend": false,
         "type": "scatter",
         "x": [
          "2025-06-01T02:51:00",
          "2025-06-01T02:53:00"
         ],
         "xaxis": "x",
         "y": [
          0.011758314369780618,
          0.011758314369780618
         ],
         "yaxis": "y"
        },
        {
         "line": {
          "color": "grey",
          "width": 3
         },
         "mode": "lines",
         "name": "Buy-EarlyStop",
         "showlegend": false,
         "type": "scatter",
         "x": [
          "2025-06-01T02:53:00",
          "2025-06-01T02:55:00"
         ],
         "xaxis": "x",
         "y": [
          0.011676117460739996,
          0.011676117460739996
         ],
         "yaxis": "y"
        },
        {
         "line": {
          "color": "grey",
          "width": 3
         },
         "mode": "lines",
         "name": "Sell-EarlyStop",
         "showlegend": false,
         "type": "scatter",
         "x": [
          "2025-06-01T02:54:00",
          "2025-06-01T02:56:00"
         ],
         "xaxis": "x",
         "y": [
          0.011855446393290989,
          0.011855446393290989
         ],
         "yaxis": "y"
        },
        {
         "line": {
          "color": "grey",
          "width": 3
         },
         "mode": "lines",
         "name": "Buy-EarlyStop",
         "showlegend": false,
         "type": "scatter",
         "x": [
          "2025-06-01T02:56:00",
          "2025-06-01T02:58:00"
         ],
         "xaxis": "x",
         "y": [
          0.01167168761960642,
          0.01167168761960642
         ],
         "yaxis": "y"
        },
        {
         "line": {
          "color": "grey",
          "width": 3
         },
         "mode": "lines",
         "name": "Sell-EarlyStop",
         "showlegend": false,
         "type": "scatter",
         "x": [
          "2025-06-01T02:57:00",
          "2025-06-01T02:59:00"
         ],
         "xaxis": "x",
         "y": [
          0.01185793540329889,
          0.01185793540329889
         ],
         "yaxis": "y"
        },
        {
         "line": {
          "color": "grey",
          "width": 3
         },
         "mode": "lines",
         "name": "Buy-EarlyStop",
         "showlegend": false,
         "type": "scatter",
         "x": [
          "2025-06-01T02:59:00",
          "2025-06-01T03:01:00"
         ],
         "xaxis": "x",
         "y": [
          0.011677938981411732,
          0.011677938981411732
         ],
         "yaxis": "y"
        },
        {
         "line": {
          "color": "grey",
          "width": 3
         },
         "mode": "lines",
         "name": "Sell-EarlyStop",
         "showlegend": false,
         "type": "scatter",
         "x": [
          "2025-06-01T03:00:00",
          "2025-06-01T03:02:00"
         ],
         "xaxis": "x",
         "y": [
          0.011782205272597159,
          0.011782205272597159
         ],
         "yaxis": "y"
        },
        {
         "line": {
          "color": "grey",
          "width": 3
         },
         "mode": "lines",
         "name": "Buy-EarlyStop",
         "showlegend": false,
         "type": "scatter",
         "x": [
          "2025-06-01T03:02:00",
          "2025-06-01T03:04:00"
         ],
         "xaxis": "x",
         "y": [
          0.011696507072285475,
          0.011696507072285475
         ],
         "yaxis": "y"
        },
        {
         "line": {
          "color": "grey",
          "width": 3
         },
         "mode": "lines",
         "name": "Sell-EarlyStop",
         "showlegend": false,
         "type": "scatter",
         "x": [
          "2025-06-01T03:03:00",
          "2025-06-01T03:05:00"
         ],
         "xaxis": "x",
         "y": [
          0.011884602126086158,
          0.011884602126086158
         ],
         "yaxis": "y"
        },
        {
         "line": {
          "color": "grey",
          "width": 3
         },
         "mode": "lines",
         "name": "Buy-EarlyStop",
         "showlegend": false,
         "type": "scatter",
         "x": [
          "2025-06-01T03:05:00",
          "2025-06-01T03:07:00"
         ],
         "xaxis": "x",
         "y": [
          0.011692402204459624,
          0.011692402204459624
         ],
         "yaxis": "y"
        },
        {
         "line": {
          "color": "grey",
          "width": 3
         },
         "mode": "lines",
         "name": "Sell-EarlyStop",
         "showlegend": false,
         "type": "scatter",
         "x": [
          "2025-06-01T03:06:00",
          "2025-06-01T03:08:00"
         ],
         "xaxis": "x",
         "y": [
          0.011868523512199409,
          0.011868523512199409
         ],
         "yaxis": "y"
        },
        {
         "line": {
          "color": "grey",
          "width": 3
         },
         "mode": "lines",
         "name": "Buy-EarlyStop",
         "showlegend": false,
         "type": "scatter",
         "x": [
          "2025-06-01T03:08:00",
          "2025-06-01T03:10:00"
         ],
         "xaxis": "x",
         "y": [
          0.011705137997092656,
          0.011705137997092656
         ],
         "yaxis": "y"
        },
        {
         "line": {
          "color": "grey",
          "width": 3
         },
         "mode": "lines",
         "name": "Sell-EarlyStop",
         "showlegend": false,
         "type": "scatter",
         "x": [
          "2025-06-01T03:09:00",
          "2025-06-01T03:11:00"
         ],
         "xaxis": "x",
         "y": [
          0.011928633973595767,
          0.011928633973595767
         ],
         "yaxis": "y"
        },
        {
         "line": {
          "color": "grey",
          "width": 3
         },
         "mode": "lines",
         "name": "Buy-EarlyStop",
         "showlegend": false,
         "type": "scatter",
         "x": [
          "2025-06-01T03:11:00",
          "2025-06-01T03:13:00"
         ],
         "xaxis": "x",
         "y": [
          0.011711929075184703,
          0.011711929075184703
         ],
         "yaxis": "y"
        },
        {
         "line": {
          "color": "grey",
          "width": 3
         },
         "mode": "lines",
         "name": "Sell-EarlyStop",
         "showlegend": false,
         "type": "scatter",
         "x": [
          "2025-06-01T03:12:00",
          "2025-06-01T03:14:00"
         ],
         "xaxis": "x",
         "y": [
          0.011838516125932525,
          0.011838516125932525
         ],
         "yaxis": "y"
        },
        {
         "line": {
          "color": "grey",
          "width": 3
         },
         "mode": "lines",
         "name": "Buy-EarlyStop",
         "showlegend": false,
         "type": "scatter",
         "x": [
          "2025-06-01T03:14:00",
          "2025-06-01T03:16:00"
         ],
         "xaxis": "x",
         "y": [
          0.01170108740486017,
          0.01170108740486017
         ],
         "yaxis": "y"
        },
        {
         "line": {
          "color": "grey",
          "width": 3
         },
         "mode": "lines",
         "name": "Sell-EarlyStop",
         "showlegend": false,
         "type": "scatter",
         "x": [
          "2025-06-01T03:15:00",
          "2025-06-01T03:17:00"
         ],
         "xaxis": "x",
         "y": [
          0.011826769088984931,
          0.011826769088984931
         ],
         "yaxis": "y"
        },
        {
         "line": {
          "color": "grey",
          "width": 3
         },
         "mode": "lines",
         "name": "Buy-EarlyStop",
         "showlegend": false,
         "type": "scatter",
         "x": [
          "2025-06-01T03:17:00",
          "2025-06-01T03:19:00"
         ],
         "xaxis": "x",
         "y": [
          0.011702465316651514,
          0.011702465316651514
         ],
         "yaxis": "y"
        },
        {
         "line": {
          "color": "grey",
          "width": 3
         },
         "mode": "lines",
         "name": "Sell-EarlyStop",
         "showlegend": false,
         "type": "scatter",
         "x": [
          "2025-06-01T03:18:00",
          "2025-06-01T03:20:00"
         ],
         "xaxis": "x",
         "y": [
          0.011819950614525745,
          0.011819950614525745
         ],
         "yaxis": "y"
        },
        {
         "line": {
          "color": "grey",
          "width": 3
         },
         "mode": "lines",
         "name": "Buy-EarlyStop",
         "showlegend": false,
         "type": "scatter",
         "x": [
          "2025-06-01T03:20:00",
          "2025-06-01T03:22:00"
         ],
         "xaxis": "x",
         "y": [
          0.011701376924113658,
          0.011701376924113658
         ],
         "yaxis": "y"
        },
        {
         "line": {
          "color": "grey",
          "width": 3
         },
         "mode": "lines",
         "name": "Sell-EarlyStop",
         "showlegend": false,
         "type": "scatter",
         "x": [
          "2025-06-01T03:21:00",
          "2025-06-01T03:23:00"
         ],
         "xaxis": "x",
         "y": [
          0.011828662761957424,
          0.011828662761957424
         ],
         "yaxis": "y"
        },
        {
         "line": {
          "color": "grey",
          "width": 3
         },
         "mode": "lines",
         "name": "Buy-EarlyStop",
         "showlegend": false,
         "type": "scatter",
         "x": [
          "2025-06-01T03:23:00",
          "2025-06-01T03:25:00"
         ],
         "xaxis": "x",
         "y": [
          0.011694169964894092,
          0.011694169964894092
         ],
         "yaxis": "y"
        },
        {
         "line": {
          "color": "grey",
          "width": 3
         },
         "mode": "lines",
         "name": "Sell-EarlyStop",
         "showlegend": false,
         "type": "scatter",
         "x": [
          "2025-06-01T03:24:00",
          "2025-06-01T03:26:00"
         ],
         "xaxis": "x",
         "y": [
          0.011828964045362173,
          0.011828964045362173
         ],
         "yaxis": "y"
        },
        {
         "line": {
          "color": "grey",
          "width": 3
         },
         "mode": "lines",
         "name": "Buy-EarlyStop",
         "showlegend": false,
         "type": "scatter",
         "x": [
          "2025-06-01T03:26:00",
          "2025-06-01T03:28:00"
         ],
         "xaxis": "x",
         "y": [
          0.011718183085909408,
          0.011718183085909408
         ],
         "yaxis": "y"
        },
        {
         "line": {
          "color": "grey",
          "width": 3
         },
         "mode": "lines",
         "name": "Sell-EarlyStop",
         "showlegend": false,
         "type": "scatter",
         "x": [
          "2025-06-01T03:27:00",
          "2025-06-01T03:29:00"
         ],
         "xaxis": "x",
         "y": [
          0.01184184270753387,
          0.01184184270753387
         ],
         "yaxis": "y"
        },
        {
         "line": {
          "color": "grey",
          "width": 3
         },
         "mode": "lines",
         "name": "Buy-EarlyStop",
         "showlegend": false,
         "type": "scatter",
         "x": [
          "2025-06-01T03:29:00",
          "2025-06-01T03:31:00"
         ],
         "xaxis": "x",
         "y": [
          0.011700895098935139,
          0.011700895098935139
         ],
         "yaxis": "y"
        },
        {
         "line": {
          "color": "grey",
          "width": 3
         },
         "mode": "lines",
         "name": "Sell-EarlyStop",
         "showlegend": false,
         "type": "scatter",
         "x": [
          "2025-06-01T03:30:00",
          "2025-06-01T03:32:00"
         ],
         "xaxis": "x",
         "y": [
          0.011900968279752901,
          0.011900968279752901
         ],
         "yaxis": "y"
        },
        {
         "line": {
          "color": "grey",
          "width": 3
         },
         "mode": "lines",
         "name": "Buy-EarlyStop",
         "showlegend": false,
         "type": "scatter",
         "x": [
          "2025-06-01T03:32:00",
          "2025-06-01T03:34:00"
         ],
         "xaxis": "x",
         "y": [
          0.011735755120377079,
          0.011735755120377079
         ],
         "yaxis": "y"
        },
        {
         "line": {
          "color": "grey",
          "width": 3
         },
         "mode": "lines",
         "name": "Sell-EarlyStop",
         "showlegend": false,
         "type": "scatter",
         "x": [
          "2025-06-01T03:33:00",
          "2025-06-01T03:35:00"
         ],
         "xaxis": "x",
         "y": [
          0.011932091563895509,
          0.011932091563895509
         ],
         "yaxis": "y"
        },
        {
         "line": {
          "color": "grey",
          "width": 3
         },
         "mode": "lines",
         "name": "Buy-EarlyStop",
         "showlegend": false,
         "type": "scatter",
         "x": [
          "2025-06-01T03:35:00",
          "2025-06-01T03:37:00"
         ],
         "xaxis": "x",
         "y": [
          0.011735608061103816,
          0.011735608061103816
         ],
         "yaxis": "y"
        },
        {
         "line": {
          "color": "grey",
          "width": 3
         },
         "mode": "lines",
         "name": "Sell-EarlyStop",
         "showlegend": false,
         "type": "scatter",
         "x": [
          "2025-06-01T03:36:00",
          "2025-06-01T03:38:00"
         ],
         "xaxis": "x",
         "y": [
          0.011841739584828164,
          0.011841739584828164
         ],
         "yaxis": "y"
        },
        {
         "line": {
          "color": "grey",
          "width": 3
         },
         "mode": "lines",
         "name": "Buy-EarlyStop",
         "showlegend": false,
         "type": "scatter",
         "x": [
          "2025-06-01T03:38:00",
          "2025-06-01T03:40:00"
         ],
         "xaxis": "x",
         "y": [
          0.011722463479949685,
          0.011722463479949685
         ],
         "yaxis": "y"
        },
        {
         "line": {
          "color": "grey",
          "width": 3
         },
         "mode": "lines",
         "name": "Sell-EarlyStop",
         "showlegend": false,
         "type": "scatter",
         "x": [
          "2025-06-01T03:39:00",
          "2025-06-01T03:41:00"
         ],
         "xaxis": "x",
         "y": [
          0.011949279922208903,
          0.011949279922208903
         ],
         "yaxis": "y"
        },
        {
         "line": {
          "color": "grey",
          "width": 3
         },
         "mode": "lines",
         "name": "Buy-EarlyStop",
         "showlegend": false,
         "type": "scatter",
         "x": [
          "2025-06-01T03:41:00",
          "2025-06-01T03:43:00"
         ],
         "xaxis": "x",
         "y": [
          0.011748937969944175,
          0.011748937969944175
         ],
         "yaxis": "y"
        },
        {
         "line": {
          "color": "grey",
          "width": 3
         },
         "mode": "lines",
         "name": "Sell-EarlyStop",
         "showlegend": false,
         "type": "scatter",
         "x": [
          "2025-06-01T03:42:00",
          "2025-06-01T03:44:00"
         ],
         "xaxis": "x",
         "y": [
          0.011941641729844398,
          0.011941641729844398
         ],
         "yaxis": "y"
        },
        {
         "line": {
          "color": "grey",
          "width": 3
         },
         "mode": "lines",
         "name": "Buy-EarlyStop",
         "showlegend": false,
         "type": "scatter",
         "x": [
          "2025-06-01T03:44:00",
          "2025-06-01T03:46:00"
         ],
         "xaxis": "x",
         "y": [
          0.011743074978499619,
          0.011743074978499619
         ],
         "yaxis": "y"
        },
        {
         "line": {
          "color": "grey",
          "width": 3
         },
         "mode": "lines",
         "name": "Sell-EarlyStop",
         "showlegend": false,
         "type": "scatter",
         "x": [
          "2025-06-01T03:45:00",
          "2025-06-01T03:47:00"
         ],
         "xaxis": "x",
         "y": [
          0.011926668192142251,
          0.011926668192142251
         ],
         "yaxis": "y"
        },
        {
         "line": {
          "color": "grey",
          "width": 3
         },
         "mode": "lines",
         "name": "Buy-EarlyStop",
         "showlegend": false,
         "type": "scatter",
         "x": [
          "2025-06-01T03:47:00",
          "2025-06-01T03:49:00"
         ],
         "xaxis": "x",
         "y": [
          0.011756125259054596,
          0.011756125259054596
         ],
         "yaxis": "y"
        },
        {
         "line": {
          "color": "grey",
          "width": 3
         },
         "mode": "lines",
         "name": "Sell-EarlyStop",
         "showlegend": false,
         "type": "scatter",
         "x": [
          "2025-06-01T03:48:00",
          "2025-06-01T03:50:00"
         ],
         "xaxis": "x",
         "y": [
          0.011862810187251086,
          0.011862810187251086
         ],
         "yaxis": "y"
        },
        {
         "line": {
          "color": "grey",
          "width": 3
         },
         "mode": "lines",
         "name": "Sell-EarlyStop",
         "showlegend": false,
         "type": "scatter",
         "x": [
          "2025-06-01T03:51:00",
          "2025-06-01T03:53:00"
         ],
         "xaxis": "x",
         "y": [
          0.01186421949548148,
          0.01186421949548148
         ],
         "yaxis": "y"
        },
        {
         "line": {
          "color": "grey",
          "width": 3
         },
         "mode": "lines",
         "name": "Sell-EarlyStop",
         "showlegend": false,
         "type": "scatter",
         "x": [
          "2025-06-01T03:54:00",
          "2025-06-01T03:56:00"
         ],
         "xaxis": "x",
         "y": [
          0.011818723657474548,
          0.011818723657474548
         ],
         "yaxis": "y"
        },
        {
         "line": {
          "color": "grey",
          "width": 3
         },
         "mode": "lines",
         "name": "Sell-EarlyStop",
         "showlegend": false,
         "type": "scatter",
         "x": [
          "2025-06-01T03:57:00",
          "2025-06-01T03:59:00"
         ],
         "xaxis": "x",
         "y": [
          0.011813822150289699,
          0.011813822150289699
         ],
         "yaxis": "y"
        },
        {
         "line": {
          "color": "grey",
          "width": 3
         },
         "mode": "lines",
         "name": "Sell-EarlyStop",
         "showlegend": false,
         "type": "scatter",
         "x": [
          "2025-06-01T04:00:00",
          "2025-06-01T04:02:00"
         ],
         "xaxis": "x",
         "y": [
          0.011823090536395254,
          0.011823090536395254
         ],
         "yaxis": "y"
        },
        {
         "line": {
          "color": "grey",
          "width": 3
         },
         "mode": "lines",
         "name": "Sell-EarlyStop",
         "showlegend": false,
         "type": "scatter",
         "x": [
          "2025-06-01T04:03:00",
          "2025-06-01T04:05:00"
         ],
         "xaxis": "x",
         "y": [
          0.011828417547901197,
          0.011828417547901197
         ],
         "yaxis": "y"
        },
        {
         "line": {
          "color": "grey",
          "width": 3
         },
         "mode": "lines",
         "name": "Sell-EarlyStop",
         "showlegend": false,
         "type": "scatter",
         "x": [
          "2025-06-01T04:06:00",
          "2025-06-01T04:08:00"
         ],
         "xaxis": "x",
         "y": [
          0.011833609820098965,
          0.011833609820098965
         ],
         "yaxis": "y"
        },
        {
         "line": {
          "color": "grey",
          "width": 3
         },
         "mode": "lines",
         "name": "Sell-EarlyStop",
         "showlegend": false,
         "type": "scatter",
         "x": [
          "2025-06-01T04:09:00",
          "2025-06-01T04:11:00"
         ],
         "xaxis": "x",
         "y": [
          0.01186202169875656,
          0.01186202169875656
         ],
         "yaxis": "y"
        },
        {
         "line": {
          "color": "grey",
          "width": 3
         },
         "mode": "lines",
         "name": "Sell-EarlyStop",
         "showlegend": false,
         "type": "scatter",
         "x": [
          "2025-06-01T04:12:00",
          "2025-06-01T04:14:00"
         ],
         "xaxis": "x",
         "y": [
          0.011827690311398922,
          0.011827690311398922
         ],
         "yaxis": "y"
        },
        {
         "line": {
          "color": "grey",
          "width": 3
         },
         "mode": "lines",
         "name": "Sell-EarlyStop",
         "showlegend": false,
         "type": "scatter",
         "x": [
          "2025-06-01T04:15:00",
          "2025-06-01T04:17:00"
         ],
         "xaxis": "x",
         "y": [
          0.011792795599098394,
          0.011792795599098394
         ],
         "yaxis": "y"
        },
        {
         "line": {
          "color": "grey",
          "width": 3
         },
         "mode": "lines",
         "name": "Sell-EarlyStop",
         "showlegend": false,
         "type": "scatter",
         "x": [
          "2025-06-01T04:18:00",
          "2025-06-01T04:20:00"
         ],
         "xaxis": "x",
         "y": [
          0.011797900726753966,
          0.011797900726753966
         ],
         "yaxis": "y"
        },
        {
         "line": {
          "color": "grey",
          "width": 3
         },
         "mode": "lines",
         "name": "Sell-EarlyStop",
         "showlegend": false,
         "type": "scatter",
         "x": [
          "2025-06-01T04:21:00",
          "2025-06-01T04:23:00"
         ],
         "xaxis": "x",
         "y": [
          0.011818567607840018,
          0.011818567607840018
         ],
         "yaxis": "y"
        },
        {
         "line": {
          "color": "grey",
          "width": 3
         },
         "mode": "lines",
         "name": "Sell-EarlyStop",
         "showlegend": false,
         "type": "scatter",
         "x": [
          "2025-06-01T04:24:00",
          "2025-06-01T04:26:00"
         ],
         "xaxis": "x",
         "y": [
          0.011921163736514475,
          0.011921163736514475
         ],
         "yaxis": "y"
        },
        {
         "line": {
          "color": "grey",
          "width": 3
         },
         "mode": "lines",
         "name": "Sell-EarlyStop",
         "showlegend": false,
         "type": "scatter",
         "x": [
          "2025-06-01T04:27:00",
          "2025-06-01T04:29:00"
         ],
         "xaxis": "x",
         "y": [
          0.011824043595096116,
          0.011824043595096116
         ],
         "yaxis": "y"
        },
        {
         "line": {
          "color": "grey",
          "width": 3
         },
         "mode": "lines",
         "name": "Sell-EarlyStop",
         "showlegend": false,
         "type": "scatter",
         "x": [
          "2025-06-01T04:30:00",
          "2025-06-01T04:32:00"
         ],
         "xaxis": "x",
         "y": [
          0.011820520943998316,
          0.011820520943998316
         ],
         "yaxis": "y"
        },
        {
         "line": {
          "color": "grey",
          "width": 3
         },
         "mode": "lines",
         "name": "Sell-EarlyStop",
         "showlegend": false,
         "type": "scatter",
         "x": [
          "2025-06-01T04:33:00",
          "2025-06-01T04:35:00"
         ],
         "xaxis": "x",
         "y": [
          0.0118154867518109,
          0.0118154867518109
         ],
         "yaxis": "y"
        },
        {
         "line": {
          "color": "grey",
          "width": 3
         },
         "mode": "lines",
         "name": "Sell-EarlyStop",
         "showlegend": false,
         "type": "scatter",
         "x": [
          "2025-06-01T04:36:00",
          "2025-06-01T04:38:00"
         ],
         "xaxis": "x",
         "y": [
          0.011797893311927467,
          0.011797893311927467
         ],
         "yaxis": "y"
        },
        {
         "line": {
          "color": "grey",
          "width": 3
         },
         "mode": "lines",
         "name": "Sell-EarlyStop",
         "showlegend": false,
         "type": "scatter",
         "x": [
          "2025-06-01T04:39:00",
          "2025-06-01T04:41:00"
         ],
         "xaxis": "x",
         "y": [
          0.011776829441064866,
          0.011776829441064866
         ],
         "yaxis": "y"
        },
        {
         "line": {
          "color": "grey",
          "width": 3
         },
         "mode": "lines",
         "name": "Sell-EarlyStop",
         "showlegend": false,
         "type": "scatter",
         "x": [
          "2025-06-01T04:42:00",
          "2025-06-01T04:44:00"
         ],
         "xaxis": "x",
         "y": [
          0.011796112851108733,
          0.011796112851108733
         ],
         "yaxis": "y"
        },
        {
         "line": {
          "color": "grey",
          "width": 3
         },
         "mode": "lines",
         "name": "Sell-EarlyStop",
         "showlegend": false,
         "type": "scatter",
         "x": [
          "2025-06-01T04:45:00",
          "2025-06-01T04:47:00"
         ],
         "xaxis": "x",
         "y": [
          0.011786969549402972,
          0.011786969549402972
         ],
         "yaxis": "y"
        },
        {
         "line": {
          "color": "grey",
          "width": 3
         },
         "mode": "lines",
         "name": "Sell-EarlyStop",
         "showlegend": false,
         "type": "scatter",
         "x": [
          "2025-06-01T04:48:00",
          "2025-06-01T04:50:00"
         ],
         "xaxis": "x",
         "y": [
          0.011787597063435946,
          0.011787597063435946
         ],
         "yaxis": "y"
        },
        {
         "line": {
          "color": "grey",
          "width": 3
         },
         "mode": "lines",
         "name": "Sell-EarlyStop",
         "showlegend": false,
         "type": "scatter",
         "x": [
          "2025-06-01T04:51:00",
          "2025-06-01T04:53:00"
         ],
         "xaxis": "x",
         "y": [
          0.011778941376103793,
          0.011778941376103793
         ],
         "yaxis": "y"
        },
        {
         "line": {
          "color": "grey",
          "width": 3
         },
         "mode": "lines",
         "name": "Sell-EarlyStop",
         "showlegend": false,
         "type": "scatter",
         "x": [
          "2025-06-01T04:54:00",
          "2025-06-01T04:56:00"
         ],
         "xaxis": "x",
         "y": [
          0.01179049036601313,
          0.01179049036601313
         ],
         "yaxis": "y"
        },
        {
         "line": {
          "color": "grey",
          "width": 3
         },
         "mode": "lines",
         "name": "Sell-EarlyStop",
         "showlegend": false,
         "type": "scatter",
         "x": [
          "2025-06-01T04:57:00",
          "2025-06-01T04:59:00"
         ],
         "xaxis": "x",
         "y": [
          0.011787625844819852,
          0.011787625844819852
         ],
         "yaxis": "y"
        },
        {
         "line": {
          "color": "blue",
          "width": 4
         },
         "mode": "lines",
         "name": "Buy-EarlyStop",
         "showlegend": true,
         "type": "scatter",
         "x": [
          "2025-06-01T03:50:00",
          "2025-06-01T03:52:00"
         ],
         "xaxis": "x",
         "y": [
          0.011752138815261636,
          0.011752138815261636
         ],
         "yaxis": "y"
        },
        {
         "line": {
          "color": "red",
          "width": 4
         },
         "mode": "lines",
         "name": "Buy-EarlyStop",
         "showlegend": true,
         "type": "scatter",
         "x": [
          "2025-06-01T03:52:00",
          "2025-06-01T05:00:00"
         ],
         "xaxis": "x",
         "y": [
          0.011752138815261636,
          0.01175182115
         ],
         "yaxis": "y"
        },
        {
         "line": {
          "color": "grey",
          "width": 3
         },
         "mode": "lines",
         "name": "Sell-EarlyStop",
         "showlegend": false,
         "type": "scatter",
         "x": [
          "2025-06-01T05:00:00",
          "2025-06-01T05:00:00"
         ],
         "xaxis": "x",
         "y": [
          0.011792422978403943,
          0.011792422978403943
         ],
         "yaxis": "y"
        },
        {
         "fill": "tonexty",
         "fillcolor": "rgba(255, 165, 0, 0.2)",
         "line": {
          "color": "gold",
          "width": 2
         },
         "mode": "lines",
         "name": "Cumulative PNL",
         "type": "scatter",
         "x": [
          "2025-06-01T01:02:00.000000000",
          "2025-06-01T01:02:00.000000000",
          "2025-06-01T01:05:00.000000000",
          "2025-06-01T01:05:00.000000000",
          "2025-06-01T01:08:00.000000000",
          "2025-06-01T01:08:00.000000000",
          "2025-06-01T01:11:00.000000000",
          "2025-06-01T01:11:00.000000000",
          "2025-06-01T01:14:00.000000000",
          "2025-06-01T01:14:00.000000000",
          "2025-06-01T01:17:00.000000000",
          "2025-06-01T01:17:00.000000000",
          "2025-06-01T01:20:00.000000000",
          "2025-06-01T01:20:00.000000000",
          "2025-06-01T01:23:00.000000000",
          "2025-06-01T01:23:00.000000000",
          "2025-06-01T01:26:00.000000000",
          "2025-06-01T01:26:00.000000000",
          "2025-06-01T01:29:00.000000000",
          "2025-06-01T01:29:00.000000000",
          "2025-06-01T01:32:00.000000000",
          "2025-06-01T01:32:00.000000000",
          "2025-06-01T01:35:00.000000000",
          "2025-06-01T01:35:00.000000000",
          "2025-06-01T01:38:00.000000000",
          "2025-06-01T01:38:00.000000000",
          "2025-06-01T01:41:00.000000000",
          "2025-06-01T01:41:00.000000000",
          "2025-06-01T01:44:00.000000000",
          "2025-06-01T01:44:00.000000000",
          "2025-06-01T01:47:00.000000000",
          "2025-06-01T01:47:00.000000000",
          "2025-06-01T01:50:00.000000000",
          "2025-06-01T01:50:00.000000000",
          "2025-06-01T01:53:00.000000000",
          "2025-06-01T01:56:00.000000000",
          "2025-06-01T01:59:00.000000000",
          "2025-06-01T02:02:00.000000000",
          "2025-06-01T02:05:00.000000000",
          "2025-06-01T02:08:00.000000000",
          "2025-06-01T02:11:00.000000000",
          "2025-06-01T02:13:00.000000000",
          "2025-06-01T02:14:00.000000000",
          "2025-06-01T02:16:00.000000000",
          "2025-06-01T02:17:00.000000000",
          "2025-06-01T02:19:00.000000000",
          "2025-06-01T02:20:00.000000000",
          "2025-06-01T02:22:00.000000000",
          "2025-06-01T02:23:00.000000000",
          "2025-06-01T02:25:00.000000000",
          "2025-06-01T02:26:00.000000000",
          "2025-06-01T02:28:00.000000000",
          "2025-06-01T02:29:00.000000000",
          "2025-06-01T02:31:00.000000000",
          "2025-06-01T02:32:00.000000000",
          "2025-06-01T02:34:00.000000000",
          "2025-06-01T02:35:00.000000000",
          "2025-06-01T02:37:00.000000000",
          "2025-06-01T02:38:00.000000000",
          "2025-06-01T02:40:00.000000000",
          "2025-06-01T02:41:00.000000000",
          "2025-06-01T02:43:00.000000000",
          "2025-06-01T02:44:00.000000000",
          "2025-06-01T02:46:00.000000000",
          "2025-06-01T02:47:00.000000000",
          "2025-06-01T02:49:00.000000000",
          "2025-06-01T02:50:00.000000000",
          "2025-06-01T02:52:00.000000000",
          "2025-06-01T02:53:00.000000000",
          "2025-06-01T02:55:00.000000000",
          "2025-06-01T02:56:00.000000000",
          "2025-06-01T02:58:00.000000000",
          "2025-06-01T02:59:00.000000000",
          "2025-06-01T03:01:00.000000000",
          "2025-06-01T03:02:00.000000000",
          "2025-06-01T03:04:00.000000000",
          "2025-06-01T03:05:00.000000000",
          "2025-06-01T03:07:00.000000000",
          "2025-06-01T03:08:00.000000000",
          "2025-06-01T03:10:00.000000000",
          "2025-06-01T03:11:00.000000000",
          "2025-06-01T03:13:00.000000000",
          "2025-06-01T03:14:00.000000000",
          "2025-06-01T03:16:00.000000000",
          "2025-06-01T03:17:00.000000000",
          "2025-06-01T03:19:00.000000000",
          "2025-06-01T03:20:00.000000000",
          "2025-06-01T03:22:00.000000000",
          "2025-06-01T03:23:00.000000000",
          "2025-06-01T03:25:00.000000000",
          "2025-06-01T03:26:00.000000000",
          "2025-06-01T03:28:00.000000000",
          "2025-06-01T03:29:00.000000000",
          "2025-06-01T03:31:00.000000000",
          "2025-06-01T03:32:00.000000000",
          "2025-06-01T03:34:00.000000000",
          "2025-06-01T03:35:00.000000000",
          "2025-06-01T03:37:00.000000000",
          "2025-06-01T03:38:00.000000000",
          "2025-06-01T03:40:00.000000000",
          "2025-06-01T03:41:00.000000000",
          "2025-06-01T03:43:00.000000000",
          "2025-06-01T03:44:00.000000000",
          "2025-06-01T03:46:00.000000000",
          "2025-06-01T03:47:00.000000000",
          "2025-06-01T03:49:00.000000000",
          "2025-06-01T03:50:00.000000000",
          "2025-06-01T03:53:00.000000000",
          "2025-06-01T03:56:00.000000000",
          "2025-06-01T03:59:00.000000000",
          "2025-06-01T04:02:00.000000000",
          "2025-06-01T04:05:00.000000000",
          "2025-06-01T04:08:00.000000000",
          "2025-06-01T04:11:00.000000000",
          "2025-06-01T04:14:00.000000000",
          "2025-06-01T04:17:00.000000000",
          "2025-06-01T04:20:00.000000000",
          "2025-06-01T04:23:00.000000000",
          "2025-06-01T04:26:00.000000000",
          "2025-06-01T04:29:00.000000000",
          "2025-06-01T04:32:00.000000000",
          "2025-06-01T04:35:00.000000000",
          "2025-06-01T04:38:00.000000000",
          "2025-06-01T04:41:00.000000000",
          "2025-06-01T04:44:00.000000000",
          "2025-06-01T04:47:00.000000000",
          "2025-06-01T04:50:00.000000000",
          "2025-06-01T04:53:00.000000000",
          "2025-06-01T04:56:00.000000000",
          "2025-06-01T04:59:00.000000000",
          "2025-06-01T05:00:00.000000000",
          "2025-06-01T05:00:00.000000000"
         ],
         "xaxis": "x2",
         "y": [
          0,
          0,
          0,
          0,
          0,
          0,
          0,
          0,
          0,
          0,
          0,
          0,
          0,
          0,
          0,
          0,
          0,
          0,
          0,
          0,
          0,
          0,
          0,
          0,
          0,
          0,
          0,
          0,
          0,
          0,
          0,
          0,
          0,
          0,
          0,
          0,
          0,
          0,
          0,
          0,
          0,
          0.24096628232123785,
          0.24096628232123785,
          0.24096628232123785,
          0.24096628232123785,
          0.24096628232123785,
          0.24096628232123785,
          0.24096628232123785,
          0.24096628232123785,
          0.24096628232123785,
          0.24096628232123785,
          0.24096628232123785,
          0.24096628232123785,
          0.24096628232123785,
          0.24096628232123785,
          0.24096628232123785,
          0.24096628232123785,
          0.24096628232123785,
          0.24096628232123785,
          0.24096628232123785,
          0.24096628232123785,
          0.24096628232123785,
          0.24096628232123785,
          0.24096628232123785,
          0.24096628232123785,
          0.24096628232123785,
          0.24096628232123785,
          0.24096628232123785,
          0.24096628232123785,
          0.24096628232123785,
          0.24096628232123785,
          0.24096628232123785,
          0.24096628232123785,
          0.24096628232123785,
          0.24096628232123785,
          0.24096628232123785,
          0.24096628232123785,
          0.24096628232123785,
          0.24096628232123785,
          0.24096628232123785,
          0.24096628232123785,
          0.24096628232123785,
          0.24096628232123785,
          0.24096628232123785,
          0.24096628232123785,
          0.24096628232123785,
          0.24096628232123785,
          0.24096628232123785,
          0.24096628232123785,
          0.24096628232123785,
          0.24096628232123785,
          0.24096628232123785,
          0.24096628232123785,
          0.24096628232123785,
          0.24096628232123785,
          0.24096628232123785,
          0.24096628232123785,
          0.24096628232123785,
          0.24096628232123785,
          0.24096628232123785,
          0.24096628232123785,
          0.24096628232123785,
          0.24096628232123785,
          0.24096628232123785,
          0.24096628232123785,
          0.24096628232123785,
          0.24096628232123785,
          0.24096628232123785,
          0.24096628232123785,
          0.24096628232123785,
          0.24096628232123785,
          0.24096628232123785,
          0.24096628232123785,
          0.24096628232123785,
          0.24096628232123785,
          0.24096628232123785,
          0.24096628232123785,
          0.24096628232123785,
          0.24096628232123785,
          0.24096628232123785,
          0.24096628232123785,
          0.24096628232123785,
          0.24096628232123785,
          0.24096628232123785,
          0.24096628232123785,
          0.24096628232123785,
          0.24096628232123785,
          0.24096628232123785,
          0.24096628232123785,
          0.24096628232123785,
          0.20245876676886368,
          0.20245876676886368
         ],
         "yaxis": "y2"
        }
       ],
       "layout": {
        "annotations": [
         {
          "font": {
           "size": 16
          },
          "showarrow": false,
          "text": "Candlestick",
          "x": 0.5,
          "xanchor": "center",
          "xref": "paper",
          "y": 1,
          "yanchor": "bottom",
          "yref": "paper"
         },
         {
          "font": {
           "size": 16
          },
          "showarrow": false,
          "text": "PNL Quote",
          "x": 0.5,
          "xanchor": "center",
          "xref": "paper",
          "y": 0.294,
          "yanchor": "bottom",
          "yref": "paper"
         }
        ],
        "font": {
         "color": "white",
         "size": 15
        },
        "height": 800,
        "hovermode": "x unified",
        "margin": {
         "b": 20,
         "l": 20,
         "r": 20,
         "t": 50
        },
        "paper_bgcolor": "rgba(0, 0, 0, 0.1)",
        "plot_bgcolor": "rgba(0, 0, 0, 0)",
        "showlegend": false,
        "template": {
         "data": {
          "bar": [
           {
            "error_x": {
             "color": "#f2f5fa"
            },
            "error_y": {
             "color": "#f2f5fa"
            },
            "marker": {
             "line": {
              "color": "rgb(17,17,17)",
              "width": 0.5
             },
             "pattern": {
              "fillmode": "overlay",
              "size": 10,
              "solidity": 0.2
             }
            },
            "type": "bar"
           }
          ],
          "barpolar": [
           {
            "marker": {
             "line": {
              "color": "rgb(17,17,17)",
              "width": 0.5
             },
             "pattern": {
              "fillmode": "overlay",
              "size": 10,
              "solidity": 0.2
             }
            },
            "type": "barpolar"
           }
          ],
          "carpet": [
           {
            "aaxis": {
             "endlinecolor": "#A2B1C6",
             "gridcolor": "#506784",
             "linecolor": "#506784",
             "minorgridcolor": "#506784",
             "startlinecolor": "#A2B1C6"
            },
            "baxis": {
             "endlinecolor": "#A2B1C6",
             "gridcolor": "#506784",
             "linecolor": "#506784",
             "minorgridcolor": "#506784",
             "startlinecolor": "#A2B1C6"
            },
            "type": "carpet"
           }
          ],
          "choropleth": [
           {
            "colorbar": {
             "outlinewidth": 0,
             "ticks": ""
            },
            "type": "choropleth"
           }
          ],
          "contour": [
           {
            "colorbar": {
             "outlinewidth": 0,
             "ticks": ""
            },
            "colorscale": [
             [
              0,
              "#0d0887"
             ],
             [
              0.1111111111111111,
              "#46039f"
             ],
             [
              0.2222222222222222,
              "#7201a8"
             ],
             [
              0.3333333333333333,
              "#9c179e"
             ],
             [
              0.4444444444444444,
              "#bd3786"
             ],
             [
              0.5555555555555556,
              "#d8576b"
             ],
             [
              0.6666666666666666,
              "#ed7953"
             ],
             [
              0.7777777777777778,
              "#fb9f3a"
             ],
             [
              0.8888888888888888,
              "#fdca26"
             ],
             [
              1,
              "#f0f921"
             ]
            ],
            "type": "contour"
           }
          ],
          "contourcarpet": [
           {
            "colorbar": {
             "outlinewidth": 0,
             "ticks": ""
            },
            "type": "contourcarpet"
           }
          ],
          "heatmap": [
           {
            "colorbar": {
             "outlinewidth": 0,
             "ticks": ""
            },
            "colorscale": [
             [
              0,
              "#0d0887"
             ],
             [
              0.1111111111111111,
              "#46039f"
             ],
             [
              0.2222222222222222,
              "#7201a8"
             ],
             [
              0.3333333333333333,
              "#9c179e"
             ],
             [
              0.4444444444444444,
              "#bd3786"
             ],
             [
              0.5555555555555556,
              "#d8576b"
             ],
             [
              0.6666666666666666,
              "#ed7953"
             ],
             [
              0.7777777777777778,
              "#fb9f3a"
             ],
             [
              0.8888888888888888,
              "#fdca26"
             ],
             [
              1,
              "#f0f921"
             ]
            ],
            "type": "heatmap"
           }
          ],
          "histogram": [
           {
            "marker": {
             "pattern": {
              "fillmode": "overlay",
              "size": 10,
              "solidity": 0.2
             }
            },
            "type": "histogram"
           }
          ],
          "histogram2d": [
           {
            "colorbar": {
             "outlinewidth": 0,
             "ticks": ""
            },
            "colorscale": [
             [
              0,
              "#0d0887"
             ],
             [
              0.1111111111111111,
              "#46039f"
             ],
             [
              0.2222222222222222,
              "#7201a8"
             ],
             [
              0.3333333333333333,
              "#9c179e"
             ],
             [
              0.4444444444444444,
              "#bd3786"
             ],
             [
              0.5555555555555556,
              "#d8576b"
             ],
             [
              0.6666666666666666,
              "#ed7953"
             ],
             [
              0.7777777777777778,
              "#fb9f3a"
             ],
             [
              0.8888888888888888,
              "#fdca26"
             ],
             [
              1,
              "#f0f921"
             ]
            ],
            "type": "histogram2d"
           }
          ],
          "histogram2dcontour": [
           {
            "colorbar": {
             "outlinewidth": 0,
             "ticks": ""
            },
            "colorscale": [
             [
              0,
              "#0d0887"
             ],
             [
              0.1111111111111111,
              "#46039f"
             ],
             [
              0.2222222222222222,
              "#7201a8"
             ],
             [
              0.3333333333333333,
              "#9c179e"
             ],
             [
              0.4444444444444444,
              "#bd3786"
             ],
             [
              0.5555555555555556,
              "#d8576b"
             ],
             [
              0.6666666666666666,
              "#ed7953"
             ],
             [
              0.7777777777777778,
              "#fb9f3a"
             ],
             [
              0.8888888888888888,
              "#fdca26"
             ],
             [
              1,
              "#f0f921"
             ]
            ],
            "type": "histogram2dcontour"
           }
          ],
          "mesh3d": [
           {
            "colorbar": {
             "outlinewidth": 0,
             "ticks": ""
            },
            "type": "mesh3d"
           }
          ],
          "parcoords": [
           {
            "line": {
             "colorbar": {
              "outlinewidth": 0,
              "ticks": ""
             }
            },
            "type": "parcoords"
           }
          ],
          "pie": [
           {
            "automargin": true,
            "type": "pie"
           }
          ],
          "scatter": [
           {
            "marker": {
             "line": {
              "color": "#283442"
             }
            },
            "type": "scatter"
           }
          ],
          "scatter3d": [
           {
            "line": {
             "colorbar": {
              "outlinewidth": 0,
              "ticks": ""
             }
            },
            "marker": {
             "colorbar": {
              "outlinewidth": 0,
              "ticks": ""
             }
            },
            "type": "scatter3d"
           }
          ],
          "scattercarpet": [
           {
            "marker": {
             "colorbar": {
              "outlinewidth": 0,
              "ticks": ""
             }
            },
            "type": "scattercarpet"
           }
          ],
          "scattergeo": [
           {
            "marker": {
             "colorbar": {
              "outlinewidth": 0,
              "ticks": ""
             }
            },
            "type": "scattergeo"
           }
          ],
          "scattergl": [
           {
            "marker": {
             "line": {
              "color": "#283442"
             }
            },
            "type": "scattergl"
           }
          ],
          "scattermap": [
           {
            "marker": {
             "colorbar": {
              "outlinewidth": 0,
              "ticks": ""
             }
            },
            "type": "scattermap"
           }
          ],
          "scattermapbox": [
           {
            "marker": {
             "colorbar": {
              "outlinewidth": 0,
              "ticks": ""
             }
            },
            "type": "scattermapbox"
           }
          ],
          "scatterpolar": [
           {
            "marker": {
             "colorbar": {
              "outlinewidth": 0,
              "ticks": ""
             }
            },
            "type": "scatterpolar"
           }
          ],
          "scatterpolargl": [
           {
            "marker": {
             "colorbar": {
              "outlinewidth": 0,
              "ticks": ""
             }
            },
            "type": "scatterpolargl"
           }
          ],
          "scatterternary": [
           {
            "marker": {
             "colorbar": {
              "outlinewidth": 0,
              "ticks": ""
             }
            },
            "type": "scatterternary"
           }
          ],
          "surface": [
           {
            "colorbar": {
             "outlinewidth": 0,
             "ticks": ""
            },
            "colorscale": [
             [
              0,
              "#0d0887"
             ],
             [
              0.1111111111111111,
              "#46039f"
             ],
             [
              0.2222222222222222,
              "#7201a8"
             ],
             [
              0.3333333333333333,
              "#9c179e"
             ],
             [
              0.4444444444444444,
              "#bd3786"
             ],
             [
              0.5555555555555556,
              "#d8576b"
             ],
             [
              0.6666666666666666,
              "#ed7953"
             ],
             [
              0.7777777777777778,
              "#fb9f3a"
             ],
             [
              0.8888888888888888,
              "#fdca26"
             ],
             [
              1,
              "#f0f921"
             ]
            ],
            "type": "surface"
           }
          ],
          "table": [
           {
            "cells": {
             "fill": {
              "color": "#506784"
             },
             "line": {
              "color": "rgb(17,17,17)"
             }
            },
            "header": {
             "fill": {
              "color": "#2a3f5f"
             },
             "line": {
              "color": "rgb(17,17,17)"
             }
            },
            "type": "table"
           }
          ]
         },
         "layout": {
          "annotationdefaults": {
           "arrowcolor": "#f2f5fa",
           "arrowhead": 0,
           "arrowwidth": 1
          },
          "autotypenumbers": "strict",
          "coloraxis": {
           "colorbar": {
            "outlinewidth": 0,
            "ticks": ""
           }
          },
          "colorscale": {
           "diverging": [
            [
             0,
             "#8e0152"
            ],
            [
             0.1,
             "#c51b7d"
            ],
            [
             0.2,
             "#de77ae"
            ],
            [
             0.3,
             "#f1b6da"
            ],
            [
             0.4,
             "#fde0ef"
            ],
            [
             0.5,
             "#f7f7f7"
            ],
            [
             0.6,
             "#e6f5d0"
            ],
            [
             0.7,
             "#b8e186"
            ],
            [
             0.8,
             "#7fbc41"
            ],
            [
             0.9,
             "#4d9221"
            ],
            [
             1,
             "#276419"
            ]
           ],
           "sequential": [
            [
             0,
             "#0d0887"
            ],
            [
             0.1111111111111111,
             "#46039f"
            ],
            [
             0.2222222222222222,
             "#7201a8"
            ],
            [
             0.3333333333333333,
             "#9c179e"
            ],
            [
             0.4444444444444444,
             "#bd3786"
            ],
            [
             0.5555555555555556,
             "#d8576b"
            ],
            [
             0.6666666666666666,
             "#ed7953"
            ],
            [
             0.7777777777777778,
             "#fb9f3a"
            ],
            [
             0.8888888888888888,
             "#fdca26"
            ],
            [
             1,
             "#f0f921"
            ]
           ],
           "sequentialminus": [
            [
             0,
             "#0d0887"
            ],
            [
             0.1111111111111111,
             "#46039f"
            ],
            [
             0.2222222222222222,
             "#7201a8"
            ],
            [
             0.3333333333333333,
             "#9c179e"
            ],
            [
             0.4444444444444444,
             "#bd3786"
            ],
            [
             0.5555555555555556,
             "#d8576b"
            ],
            [
             0.6666666666666666,
             "#ed7953"
            ],
            [
             0.7777777777777778,
             "#fb9f3a"
            ],
            [
             0.8888888888888888,
             "#fdca26"
            ],
            [
             1,
             "#f0f921"
            ]
           ]
          },
          "colorway": [
           "#636efa",
           "#EF553B",
           "#00cc96",
           "#ab63fa",
           "#FFA15A",
           "#19d3f3",
           "#FF6692",
           "#B6E880",
           "#FF97FF",
           "#FECB52"
          ],
          "font": {
           "color": "#f2f5fa"
          },
          "geo": {
           "bgcolor": "rgb(17,17,17)",
           "lakecolor": "rgb(17,17,17)",
           "landcolor": "rgb(17,17,17)",
           "showlakes": true,
           "showland": true,
           "subunitcolor": "#506784"
          },
          "hoverlabel": {
           "align": "left"
          },
          "hovermode": "closest",
          "mapbox": {
           "style": "dark"
          },
          "paper_bgcolor": "rgb(17,17,17)",
          "plot_bgcolor": "rgb(17,17,17)",
          "polar": {
           "angularaxis": {
            "gridcolor": "#506784",
            "linecolor": "#506784",
            "ticks": ""
           },
           "bgcolor": "rgb(17,17,17)",
           "radialaxis": {
            "gridcolor": "#506784",
            "linecolor": "#506784",
            "ticks": ""
           }
          },
          "scene": {
           "xaxis": {
            "backgroundcolor": "rgb(17,17,17)",
            "gridcolor": "#506784",
            "gridwidth": 2,
            "linecolor": "#506784",
            "showbackground": true,
            "ticks": "",
            "zerolinecolor": "#C8D4E3"
           },
           "yaxis": {
            "backgroundcolor": "rgb(17,17,17)",
            "gridcolor": "#506784",
            "gridwidth": 2,
            "linecolor": "#506784",
            "showbackground": true,
            "ticks": "",
            "zerolinecolor": "#C8D4E3"
           },
           "zaxis": {
            "backgroundcolor": "rgb(17,17,17)",
            "gridcolor": "#506784",
            "gridwidth": 2,
            "linecolor": "#506784",
            "showbackground": true,
            "ticks": "",
            "zerolinecolor": "#C8D4E3"
           }
          },
          "shapedefaults": {
           "line": {
            "color": "#f2f5fa"
           }
          },
          "sliderdefaults": {
           "bgcolor": "#C8D4E3",
           "bordercolor": "rgb(17,17,17)",
           "borderwidth": 1,
           "tickwidth": 0
          },
          "ternary": {
           "aaxis": {
            "gridcolor": "#506784",
            "linecolor": "#506784",
            "ticks": ""
           },
           "baxis": {
            "gridcolor": "#506784",
            "linecolor": "#506784",
            "ticks": ""
           },
           "bgcolor": "rgb(17,17,17)",
           "caxis": {
            "gridcolor": "#506784",
            "linecolor": "#506784",
            "ticks": ""
           }
          },
          "title": {
           "x": 0.05
          },
          "updatemenudefaults": {
           "bgcolor": "#506784",
           "borderwidth": 0
          },
          "xaxis": {
           "automargin": true,
           "gridcolor": "#283442",
           "linecolor": "#506784",
           "ticks": "",
           "title": {
            "standoff": 15
           },
           "zerolinecolor": "#283442",
           "zerolinewidth": 2
          },
          "yaxis": {
           "automargin": true,
           "gridcolor": "#283442",
           "linecolor": "#506784",
           "ticks": "",
           "title": {
            "standoff": 15
           },
           "zerolinecolor": "#283442",
           "zerolinewidth": 2
          }
         }
        },
        "title": {
         "text": "Trading Pair: 1000PEPE-USDT"
        },
        "width": 1750,
        "xaxis": {
         "anchor": "y",
         "domain": [
          0,
          1
         ],
         "matches": "x2",
         "rangeslider": {
          "visible": false
         },
         "showticklabels": false
        },
        "xaxis2": {
         "anchor": "y2",
         "domain": [
          0,
          1
         ]
        },
        "yaxis": {
         "anchor": "x",
         "domain": [
          0.314,
          1
         ],
         "title": {
          "text": "Price"
         }
        },
        "yaxis2": {
         "anchor": "x2",
         "domain": [
          0,
          0.294
         ],
         "title": {
          "text": "PNL"
         }
        }
       }
      }
     },
     "metadata": {},
     "output_type": "display_data"
    }
   ],
   "source": [
    "import logging\n",
    "\n",
    "logging.basicConfig(\n",
    "    level=logging.WARN,\n",
    "    format='%(asctime)s - %(levelname)s - %(message)s'\n",
    ")\n",
    "\n",
    "from pyinstrument import Profiler\n",
    "\n",
    "do_profile = False\n",
    "profiler = Profiler()\n",
    "if do_profile:\n",
    "    profiler.start()\n",
    "\n",
    "import os\n",
    "import sys\n",
    "from datetime import datetime\n",
    "current_dir = os.getcwd()\n",
    "sys.path.append(os.path.join(current_dir, '../..'))\n",
    "\n",
    "from backtesting import backtest_engine\n",
    "\n",
    "from controllers.market_making import pmm_common\n",
    "pmm_common.BACKTESTING = True\n",
    "pmm_common.LOG_DETAIL = True\n",
    "\n",
    "# start_date = datetime(2025, 5, 31, 22, 43)\n",
    "# end_date = datetime(2025, 6, 1, 9, 25)\n",
    "\n",
    "# start_date = datetime(2025, 5, 30)\n",
    "# end_date = datetime(2025, 6, 1)\n",
    "\n",
    "# start_date = datetime(2025, 5, 25)\n",
    "# end_date = datetime(2025, 6, 2)\n",
    "\n",
    "# start_date = datetime(2025, 4, 19)\n",
    "# end_date = datetime(2025, 4, 26)\n",
    "\n",
    "# start_date = datetime(2025, 6, 1)\n",
    "# end_date = datetime(2025, 6, 4)\n",
    "\n",
    "# start_date = datetime(2025, 5, 26)\n",
    "# end_date = datetime(2025, 5, 31)\n",
    "\n",
    "# start_date = datetime(2025, 5, 19)\n",
    "# end_date = datetime(2025, 5, 25)\n",
    "\n",
    "start_date = datetime(2025, 6, 1, 1)\n",
    "end_date = datetime(2025, 6, 1, 5)\n",
    "\n",
    "engine = backtest_engine.BacktestEngine()\n",
    "backtest_result = await engine.async_backtest(current_dir, 'v6.yml', start_date, end_date, '1m', 0.0005, 0.0005)\n",
    "fig = backtest_result.get_backtesting_figure()\n",
    "fig.show()\n",
    "\n",
    "if do_profile:\n",
    "    profiler.stop()\n",
    "    profiler.print()\n"
   ]
  }
 ],
 "metadata": {
  "kernelspec": {
   "display_name": "hummingbot",
   "language": "python",
   "name": "python3"
  },
  "language_info": {
   "codemirror_mode": {
    "name": "ipython",
    "version": 3
   },
   "file_extension": ".py",
   "mimetype": "text/x-python",
   "name": "python",
   "nbconvert_exporter": "python",
   "pygments_lexer": "ipython3",
   "version": "3.12.10"
  }
 },
 "nbformat": 4,
 "nbformat_minor": 5
}
