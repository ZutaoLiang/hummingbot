{
 "cells": [
  {
   "cell_type": "code",
   "execution_count": null,
   "id": "d439b9cb",
   "metadata": {},
   "outputs": [],
   "source": [
    "import os\n",
    "import sys\n",
    "from datetime import datetime\n",
    "current_dir = os.getcwd()\n",
    "sys.path.append(os.path.join(current_dir, '../..'))\n",
    "from backtesting import backtesting_engine\n",
    "\n",
    "engine = backtesting_engine.BacktestingEngine()\n",
    "backtesting_result = await engine.async_backtest(current_dir, 'backtesting_pmm_simple_2.yml', datetime(2025, 4, 30), datetime(2025, 5, 2), '1m')    \n",
    "fig = backtesting_result.get_backtesting_figure()\n",
    "fig.show()"
   ]
  }
 ],
 "metadata": {
  "kernelspec": {
   "display_name": "hummingbot",
   "language": "python",
   "name": "python3"
  },
  "language_info": {
   "codemirror_mode": {
    "name": "ipython",
    "version": 3
   },
   "file_extension": ".py",
   "mimetype": "text/x-python",
   "name": "python",
   "nbconvert_exporter": "python",
   "pygments_lexer": "ipython3",
   "version": "3.12.10"
  }
 },
 "nbformat": 4,
 "nbformat_minor": 5
}
